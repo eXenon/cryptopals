{
 "cells": [
  {
   "cell_type": "markdown",
   "metadata": {},
   "source": [
    "# Generic"
   ]
  },
  {
   "cell_type": "code",
   "execution_count": 5,
   "metadata": {},
   "outputs": [],
   "source": [
    "import math\n",
    "import base64\n",
    "import binascii\n",
    "\n",
    "def to_bytes(d, format):\n",
    "    if isinstance(d, (bytes, bytearray)):\n",
    "        return d\n",
    "    elif format == 'hex':\n",
    "        return bytes(bytearray.fromhex(d))\n",
    "    elif format == 'base64':\n",
    "        return base64.b64decode(d)\n",
    "    elif format == 'str' or format == 'bytes':\n",
    "        return d.encode()\n",
    "    elif format == 'int':\n",
    "        return to_bytes(hex(d)[2:], 'hex')\n",
    "\n",
    "def bytes_to(b, format):\n",
    "    if not isinstance(b, (bytes, bytearray)):\n",
    "        return b\n",
    "    elif format == 'hex':\n",
    "        return binascii.hexlify(b).decode()\n",
    "    elif format == 'base64':\n",
    "        return base64.b64encode(b).decode()\n",
    "    elif format == 'str':\n",
    "        return b.decode()\n",
    "    elif format == 'bytes':\n",
    "        return b\n",
    "    elif format == 'int':\n",
    "        return int(bytes_to(b, 'hex')[2:], 16)"
   ]
  },
  {
   "cell_type": "code",
   "execution_count": 6,
   "metadata": {},
   "outputs": [],
   "source": [
    "import math\n",
    "import itertools\n",
    "\n",
    "def xor(d1, d2, format):\n",
    "    b1,b2 = to_bytes(d1, format), to_bytes(d2, format)\n",
    "    return bytes_to(bytes(char1 ^ char2 for char1,char2 in zip(b1,b2)), format)\n",
    "\n",
    "def pad(text, blocksize=16):\n",
    "    padsize = blocksize - (len(text) % blocksize)\n",
    "    if padsize == 0:\n",
    "        padsize = blocksize\n",
    "    return text + bytes([padsize]*padsize)\n",
    "assert pad(b\"YELLOW SUBMARINE\", blocksize=20) == b'YELLOW SUBMARINE\\x04\\x04\\x04\\x04'\n",
    "\n",
    "def unpad(text):\n",
    "    \"\"\"Validate padding and return unpadded value\"\"\"\n",
    "    try:\n",
    "        assert text[-text[-1]:] == bytes([text[-1]]*text[-1])\n",
    "    except:\n",
    "        print(text)\n",
    "        raise\n",
    "    return text[:-text[-1]]\n",
    "assert unpad(pad(b\"this is random text\", blocksize=7)) == b\"this is random text\""
   ]
  },
  {
   "cell_type": "markdown",
   "metadata": {},
   "source": [
    "# Crypto"
   ]
  },
  {
   "cell_type": "code",
   "execution_count": 7,
   "metadata": {},
   "outputs": [],
   "source": [
    "import os\n",
    "from cryptography.hazmat.primitives.ciphers import Cipher, algorithms, modes\n",
    "from cryptography.hazmat.backends import default_backend\n",
    "\n",
    "\n",
    "def decrypt_aes_ecb(enc, key, IV=None, use_padding=True):\n",
    "    \"\"\"No magic here\n",
    "    (The IV is not actually used)\"\"\"\n",
    "    cipher = Cipher(algorithms.AES(key), modes.ECB(), backend=default_backend())\n",
    "    decryptor = cipher.decryptor()\n",
    "    clear = decryptor.update(enc) + decryptor.finalize()\n",
    "    if use_padding:\n",
    "        return unpad(clear)\n",
    "    else:\n",
    "        return clear\n",
    "\n",
    "def encrypt_aes_ecb(clear, key, IV=None, use_padding=True):\n",
    "    \"\"\"No magic here\n",
    "    (The IV is not actually used)\"\"\"\n",
    "    if use_padding:\n",
    "        clear = pad(clear)\n",
    "    cipher = Cipher(algorithms.AES(key), modes.ECB(), backend=default_backend())\n",
    "    encryptor = cipher.encryptor()\n",
    "    ct = encryptor.update(clear) + encryptor.finalize()\n",
    "    return ct\n",
    "assert decrypt_aes_ecb(encrypt_aes_ecb(b'test', b'YELLOW SUBMARINE'), b'YELLOW SUBMARINE') == b'test'\n",
    "\n",
    "def encrypt_aes_cbc(clear, key, IV=None):\n",
    "    \"\"\"CBC using the ECB mode of above\n",
    "    \"\"\"\n",
    "    if IV is None:\n",
    "        IV=b'\\x00'*16\n",
    "    clear = pad(clear) # Ensure the size is divisible by 16\n",
    "    prev_block = IV\n",
    "    cipher = b''\n",
    "    for blockstart in range(0, len(clear), 16):\n",
    "        block = clear[blockstart:blockstart+16]\n",
    "        cipher_block = encrypt_aes_ecb(xor(prev_block, block, 'bytes'), key, use_padding=False)\n",
    "        prev_block = cipher_block\n",
    "        cipher += cipher_block\n",
    "    return cipher\n",
    "\n",
    "def decrypt_aes_cbc(cipher, key, IV=None):\n",
    "    \"\"\"CBC using the ECB mode of above\n",
    "    \"\"\"\n",
    "    if IV is None:\n",
    "        IV=b'\\x00'*16\n",
    "    clear = b''\n",
    "    prev_block = IV\n",
    "    for blockstart in range(0, len(cipher), 16):\n",
    "        block = cipher[blockstart:blockstart+16]\n",
    "        tmp = decrypt_aes_ecb(block, key, use_padding=False)\n",
    "        clear_block = xor(prev_block, tmp, 'bytes')\n",
    "        prev_block = cipher[blockstart:blockstart+16]\n",
    "        clear += clear_block\n",
    "    return unpad(clear)\n",
    "assert decrypt_aes_cbc(encrypt_aes_cbc(b'test'*200, b'YELLOW SUBMARINE'), b'YELLOW SUBMARINE') == b'test'*200\n",
    "\n",
    "def MAC(message, key, IV):\n",
    "    \"\"\"Simple MAC calculation.\n",
    "    \"\"\"\n",
    "    return encrypt_aes_cbc(message, key, IV)[-16:]"
   ]
  },
  {
   "cell_type": "markdown",
   "metadata": {},
   "source": [
    "# Cryptopals Notebook\n",
    "\n",
    "## Set 7\n",
    "\n",
    "### Exercice 49\n",
    "\n",
    "CBC-MAC Message Forgery"
   ]
  },
  {
   "cell_type": "code",
   "execution_count": 8,
   "metadata": {},
   "outputs": [],
   "source": [
    "# Setup : a client and a server share a key K.\n",
    "# The server has methods to validate an incoming message from the client\n",
    "\n",
    "import os, random\n",
    "\n",
    "class Server:\n",
    "    def __init__(self, key):\n",
    "        self._key = key\n",
    "        \n",
    "    def validate_simple(self, message, iv, mac):\n",
    "        \"\"\"For the simple çase with a user-provided IV\"\"\"\n",
    "        return MAC(message, self._key, iv) == mac\n",
    "    \n",
    "    def validate(self, message, mac):\n",
    "        \"\"\"Using a fixed IV\"\"\"\n",
    "        return MAC(message, self._key, b'\\x00'*16) == mac\n",
    "    \n",
    "class Client:\n",
    "    def __init__(self, key):\n",
    "        self._key = key\n",
    "    \n",
    "    def emit_simple(self, amount):\n",
    "        \"\"\"Emit a message without fixed IV, that will be intercepted by the attacker\"\"\"\n",
    "        message = 'from=bob&to=alice&amount={}'.format(amount).encode()\n",
    "        iv = os.urandom(16)\n",
    "        return message, iv, MAC(message, self._key, iv)\n",
    "    \n",
    "    def emit(self):\n",
    "        \"\"\"Emit a message using a fixed IV, with a list of transactions.\"\"\"\n",
    "        message = b'from=client&tx_list=customer0:17'\n",
    "        for i in range(9):\n",
    "            message += (';customer' + str(i+1) + ':' + str(random.randint(1, 20))).encode()\n",
    "        iv = b'\\x00'*16\n",
    "        return message, MAC(message, self._key, iv)\n",
    "    \n",
    "def init():\n",
    "    key = os.urandom(16)\n",
    "    return Server(key), Client(key)"
   ]
  },
  {
   "cell_type": "code",
   "execution_count": 9,
   "metadata": {},
   "outputs": [],
   "source": [
    "alice, bob = init()\n",
    "assert alice.validate_simple(*bob.emit_simple(10))\n",
    "assert alice.validate(*bob.emit())"
   ]
  },
  {
   "cell_type": "code",
   "execution_count": 28,
   "metadata": {},
   "outputs": [],
   "source": [
    "# First : the simple case, with a controlled IV\n",
    "message, iv, mac = bob.emit_simple(1000000)\n",
    "\n",
    "# Change message :\n",
    "new_message = b'  from=bob&to=eve&amount=1000000'\n",
    "iv = xor(xor(new_message[:16], iv, 'bytes'), message[:16], 'bytes')\n",
    "assert alice.validate_simple(new_message, iv, mac)"
   ]
  },
  {
   "cell_type": "markdown",
   "metadata": {},
   "source": [
    "We will choose as an IV the following value :\n",
    "$$\\begin{align*}\n",
    "IV\n",
    "&= message_{block1} \\bigoplus IV_{old} \\bigoplus new\\_message_{block1} \n",
    "\\end{align*}$$\n",
    "\n",
    "Now to the trickier part. The idea is to realise that the MAC is actually just the last block of the CBC cipher. This means that if we expand the message by adding to the end of it, the MAC will appear somewhere in the middle."
   ]
  },
  {
   "cell_type": "markdown",
   "metadata": {},
   "source": []
  },
  {
   "cell_type": "code",
   "execution_count": 27,
   "metadata": {},
   "outputs": [
    {
     "data": {
      "text/plain": [
       "b'\\rS\\xc1\\x99\\xa4\\xf9\\xd5\\xb6\\x03\\xd2\\xf1\\xbe~\\x7f\\x9e\\x05'"
      ]
     },
     "execution_count": 27,
     "metadata": {},
     "output_type": "execute_result"
    }
   ],
   "source": [
    "iv"
   ]
  },
  {
   "cell_type": "code",
   "execution_count": null,
   "metadata": {},
   "outputs": [],
   "source": []
  }
 ],
 "metadata": {
  "kernelspec": {
   "display_name": "Python 3",
   "language": "python",
   "name": "python3"
  },
  "language_info": {
   "codemirror_mode": {
    "name": "ipython",
    "version": 3
   },
   "file_extension": ".py",
   "mimetype": "text/x-python",
   "name": "python",
   "nbconvert_exporter": "python",
   "pygments_lexer": "ipython3",
   "version": "3.6.3"
  }
 },
 "nbformat": 4,
 "nbformat_minor": 2
}
