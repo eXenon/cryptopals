{
 "cells": [
  {
   "cell_type": "markdown",
   "metadata": {},
   "source": [
    "# Generic"
   ]
  },
  {
   "cell_type": "code",
   "execution_count": 44,
   "metadata": {},
   "outputs": [],
   "source": [
    "import math\n",
    "import base64\n",
    "import binascii\n",
    "\n",
    "def to_bytes(d, format):\n",
    "    if isinstance(d, (bytes, bytearray)):\n",
    "        return d\n",
    "    elif format == 'hex':\n",
    "        return bytes(bytearray.fromhex(d))\n",
    "    elif format == 'base64':\n",
    "        return base64.b64decode(d)\n",
    "    elif format == 'str' or format == 'bytes':\n",
    "        return d.encode()\n",
    "    elif format == 'int':\n",
    "        return to_bytes(hex(d)[2:], 'hex')\n",
    "\n",
    "def bytes_to(b, format):\n",
    "    if not isinstance(b, (bytes, bytearray)):\n",
    "        return b\n",
    "    elif format == 'hex':\n",
    "        return binascii.hexlify(b).decode()\n",
    "    elif format == 'base64':\n",
    "        return base64.b64encode(b).decode()\n",
    "    elif format == 'str':\n",
    "        return b.decode()\n",
    "    elif format == 'bytes':\n",
    "        return b\n",
    "    elif format == 'int':\n",
    "        return int(bytes_to(b, 'hex')[2:], 16)"
   ]
  },
  {
   "cell_type": "code",
   "execution_count": 45,
   "metadata": {},
   "outputs": [],
   "source": [
    "import math\n",
    "import itertools\n",
    "\n",
    "def xor(d1, d2, format):\n",
    "    b1,b2 = to_bytes(d1, format), to_bytes(d2, format)\n",
    "    return bytes_to(bytes(char1 ^ char2 for char1,char2 in zip(b1,b2)), format)\n",
    "\n",
    "def pad(text, blocksize=16):\n",
    "    padsize = blocksize - (len(text) % blocksize)\n",
    "    if padsize == 0:\n",
    "        padsize = blocksize\n",
    "    return text + bytes([padsize]*padsize)\n",
    "assert pad(b\"YELLOW SUBMARINE\", blocksize=20) == b'YELLOW SUBMARINE\\x04\\x04\\x04\\x04'\n",
    "\n",
    "def unpad(text):\n",
    "    \"\"\"Validate padding and return unpadded value\"\"\"\n",
    "    try:\n",
    "        assert text[-text[-1]:] == bytes([text[-1]]*text[-1])\n",
    "    except:\n",
    "        print(text)\n",
    "        raise\n",
    "    return text[:-text[-1]]\n",
    "assert unpad(pad(b\"this is random text\", blocksize=7)) == b\"this is random text\""
   ]
  },
  {
   "cell_type": "markdown",
   "metadata": {},
   "source": [
    "# Crypto"
   ]
  },
  {
   "cell_type": "code",
   "execution_count": 66,
   "metadata": {},
   "outputs": [],
   "source": [
    "import os\n",
    "from cryptography.hazmat.primitives.ciphers import Cipher, algorithms, modes\n",
    "from cryptography.hazmat.backends import default_backend\n",
    "\n",
    "\n",
    "def decrypt_aes_ecb(enc, key, IV=None, use_padding=True):\n",
    "    \"\"\"No magic here\n",
    "    (The IV is not actually used)\"\"\"\n",
    "    cipher = Cipher(algorithms.AES(key), modes.ECB(), backend=default_backend())\n",
    "    decryptor = cipher.decryptor()\n",
    "    clear = decryptor.update(enc) + decryptor.finalize()\n",
    "    if use_padding:\n",
    "        return unpad(clear)\n",
    "    else:\n",
    "        return clear\n",
    "\n",
    "def encrypt_aes_ecb(clear, key, IV=None, use_padding=True):\n",
    "    \"\"\"No magic here\n",
    "    (The IV is not actually used)\"\"\"\n",
    "    if use_padding:\n",
    "        clear = pad(clear)\n",
    "    cipher = Cipher(algorithms.AES(key), modes.ECB(), backend=default_backend())\n",
    "    encryptor = cipher.encryptor()\n",
    "    ct = encryptor.update(clear) + encryptor.finalize()\n",
    "    return ct\n",
    "assert decrypt_aes_ecb(encrypt_aes_ecb(b'test', b'YELLOW SUBMARINE'), b'YELLOW SUBMARINE') == b'test'\n",
    "\n",
    "def encrypt_aes_cbc(clear, key, IV=None):\n",
    "    \"\"\"CBC using the ECB mode of above\n",
    "    \"\"\"\n",
    "    if IV is None:\n",
    "        IV=b'\\x00'*16\n",
    "    clear = pad(clear) # Ensure the size is divisible by 16\n",
    "    prev_block = IV\n",
    "    cipher = b''\n",
    "    for blockstart in range(0, len(clear), 16):\n",
    "        block = clear[blockstart:blockstart+16]\n",
    "        cipher_block = encrypt_aes_ecb(xor(prev_block, block, 'bytes'), key, use_padding=False)\n",
    "        prev_block = cipher_block\n",
    "        cipher += cipher_block\n",
    "    return cipher\n",
    "\n",
    "def decrypt_aes_cbc(cipher, key, IV=None):\n",
    "    \"\"\"CBC using the ECB mode of above\n",
    "    \"\"\"\n",
    "    if IV is None:\n",
    "        IV=b'\\x00'*16\n",
    "    clear = b''\n",
    "    prev_block = IV\n",
    "    for blockstart in range(0, len(cipher), 16):\n",
    "        block = cipher[blockstart:blockstart+16]\n",
    "        tmp = decrypt_aes_ecb(block, key, use_padding=False)\n",
    "        clear_block = xor(prev_block, tmp, 'bytes')\n",
    "        prev_block = cipher[blockstart:blockstart+16]\n",
    "        clear += clear_block\n",
    "    return unpad(clear)\n",
    "assert decrypt_aes_cbc(encrypt_aes_cbc(b'test'*200, b'YELLOW SUBMARINE'), b'YELLOW SUBMARINE') == b'test'*200\n",
    "\n",
    "def MAC(message, key, IV):\n",
    "    \"\"\"Simple MAC calculation.\n",
    "    \"\"\"\n",
    "    return encrypt_aes_cbc(message, key, IV)[-16:]"
   ]
  },
  {
   "cell_type": "markdown",
   "metadata": {},
   "source": [
    "# Cryptopals Notebook\n",
    "\n",
    "## Set 7\n",
    "\n",
    "### Exercice 49\n",
    "\n",
    "CBC-MAC Message Forgery"
   ]
  },
  {
   "cell_type": "code",
   "execution_count": 122,
   "metadata": {},
   "outputs": [],
   "source": [
    "# Setup : a client and a server share a key K.\n",
    "# The server has methods to validate an incoming message from the client\n",
    "\n",
    "\n",
    "import os, random\n",
    "\n",
    "class Client:\n",
    "    def __init__(self, key, account):\n",
    "        \"\"\"Session for a given account holder.\n",
    "        Allows the holder to generate messages from transactions where he is the origin.\n",
    "        \"\"\"\n",
    "        self._key = key\n",
    "        self._account = account\n",
    "        \n",
    "    def emit_simple(self, target, amount, iv):\n",
    "        \"\"\"Emit a transaction from this client to any given target.\"\"\"\n",
    "        msg = \"from={}&to={}&amount={}\".format(self._account, target, amount).encode()\n",
    "        return msg, iv, MAC(msg, self._key, iv)\n",
    "        \n",
    "    def emit(self, targets, amounts):\n",
    "        \"\"\"Emit a transaction from this client to any given target.\"\"\"\n",
    "        tx_list = ';'.join('{}:{}'.format(t, a) for t,a in zip(targets, amounts))\n",
    "        msg = \"from={}&tx_list={}\".format(self._account, tx_list).encode()\n",
    "        return msg, MAC(msg, self._key, b'\\x00'*16)\n",
    "\n",
    "class Server:\n",
    "    def __init__(self):\n",
    "        self._key = os.urandom(16)\n",
    "        \n",
    "    def validate_simple(self, message, iv, mac):\n",
    "        \"\"\"For the simple çase with a user-provided IV\"\"\"\n",
    "        return MAC(message, self._key, iv) == mac\n",
    "    \n",
    "    def validate(self, message, mac):\n",
    "        \"\"\"Using a fixed IV\"\"\"\n",
    "        return MAC(message, self._key, b'\\x00'*16) == mac\n",
    "    \n",
    "    def open_session(self, account):\n",
    "        return Client(self._key, account)\n",
    "\n",
    "    \n",
    "def init():\n",
    "    key = os.urandom(16)\n",
    "    return Server(key), Client(key)"
   ]
  },
  {
   "cell_type": "code",
   "execution_count": 123,
   "metadata": {},
   "outputs": [],
   "source": [
    "alice = Server()\n",
    "bob = alice.open_session('bob')\n",
    "assert alice.validate_simple(*bob.emit_simple('legit', 10, os.urandom(16)))\n",
    "assert alice.validate(*bob.emit(['legit1', 'legit2'], [10, 20]))"
   ]
  },
  {
   "cell_type": "markdown",
   "metadata": {},
   "source": [
    "If we control the IV it is easy, at you just have to set the new IV to :\n",
    "$$\\begin{align*}\n",
    "IV_{new}\n",
    "&= IV_{old} \\bigoplus message_{block1} \\bigoplus new\\_message_{block1} \n",
    "\\end{align*}$$\n",
    "When checking the MAC, the first block will be :\n",
    "$$\\begin{align*}\n",
    "IV_{new} \\bigoplus new\\_message_{block1}\n",
    "&= IV_{old} \\bigoplus message_{block1} \\bigoplus new\\_message_{block1} \\bigoplus new\\_message_{block1} \\\\\n",
    "&= IV_{old} \\bigoplus message_{block1}\n",
    "\\end{align*}$$\n",
    "which is exactly the same first block as with our original message (from eve to eve). We can then just reuse the MAC as the rest of the message is the same."
   ]
  },
  {
   "cell_type": "code",
   "execution_count": 124,
   "metadata": {},
   "outputs": [],
   "source": [
    "# First : the simple case, with a controlled IV\n",
    "eve = alice.open_session('eve')\n",
    "amount = 10000\n",
    "iv = os.urandom(16)\n",
    "message, iv, mac = eve.emit_simple('eve', amount, iv)# Generate a message from eve to eve for a large amount\n",
    "\n",
    "# Forge new message and associated IV\n",
    "new_message = b'from=bob&to=eve&amount=' + str(amount).encode()\n",
    "new_iv = xor(iv, xor(message[:16], new_message[:16], 'bytes'), 'bytes')\n",
    "assert alice.validate_simple(new_message, new_iv, mac)"
   ]
  },
  {
   "cell_type": "markdown",
   "metadata": {},
   "source": [
    "Without controlling the IV, I will add a single hypothesis to our attacker, which should not be too far fetched : the IV is known to the attacker. It is fixed, but known. Another constraint we have to add, is that the server does not validate messages too closely (meaning that we can insert bad transactions in the middle of good transactions and get away with still executing the good ones).\n",
    "\n",
    "Our intercepted message is 3 blocks long (B1, B2 and B3 - which may be padded), while our length extension is only one block or shorter. Eve will try to get the MAC for the following message : \n",
    "```\n",
    "eve_message = from=eve&tx_list=eve:100;eve:100;eve:1000000\n",
    "eve_mac = MAC(evil_message)\n",
    "```\n",
    "Let's set a few variables :\n",
    "$$\\begin{align*}\n",
    "MAC_{bob} = MAC(message_{bob}) = MAC(B1\\ ||\\ B2\\ ||\\ B3)\\\\\n",
    "MAC_{eve} = MAC(message_{eve}) = MAC(B'1\\ ||\\ B'2)\n",
    "\\end{align*}$$\n",
    "\n",
    "Now, we craft the following message :\n",
    "$$\\begin{align*}\n",
    "message = B1\\ ||\\ B2\\ ||\\ B3\\ ||\\ (MAC_{bob} \\bigoplus IV \\bigoplus B'1)\\ ||\\ B'2\n",
    "\\end{align*}$$\n",
    "\n",
    "When evaluating the MAC, the CBC encryption will arrive at the encryption of B3 and generate following the blocks :\n",
    "$$\\begin{align*}\n",
    "AES(B3 \\bigoplus\\ ...) &\\rightarrow\\ MAC_{bob}\\\\\n",
    "&\\rightarrow MAC_{bob}\\ \\bigoplus\\ (MAC_{bob} \\bigoplus IV \\bigoplus B'1)=IV \\bigoplus B'1\\\\\n",
    "&\\rightarrow AES(IV \\bigoplus B'1) \\bigoplus B'2\\\\\n",
    "&\\rightarrow AES(AES(IV \\bigoplus B'1) \\bigoplus B'2)\n",
    "&&= MAC_{eve}\n",
    "\\end{align*}$$"
   ]
  },
  {
   "cell_type": "code",
   "execution_count": 127,
   "metadata": {},
   "outputs": [],
   "source": [
    "# Second : the hard case, without controlled iv\n",
    "message_bob, mac_bob = bob.emit(['legit1', 'legit2', 'legit3'], [10, 11, 12])\n",
    "iv = b'\\x00' * 16\n",
    "\n",
    "# Eve will emit a message to herself\n",
    "message_eve, mac_eve = eve.emit(['eve', 'eve', 'eve'], [100, 100, 1000000])\n",
    "evil_message = pad(message_bob, blocksize=16) + xor(xor(mac_bob, iv, 'bytes'), message_eve[:16], 'bytes') + message_eve[16:]\n",
    "assert alice.validate(evil_message, mac_eve)"
   ]
  },
  {
   "cell_type": "markdown",
   "metadata": {},
   "source": [
    "In order to protect against this, in theory we only have to have a secret IV. But this means the IV should be as secret as the key, which partially goes against the very idea of an IV. Also stricter validation should be used in order to detect and reject messages where garbage has been injected in the middle."
   ]
  },
  {
   "cell_type": "code",
   "execution_count": 115,
   "metadata": {},
   "outputs": [
    {
     "data": {
      "text/plain": [
       "32"
      ]
     },
     "execution_count": 115,
     "metadata": {},
     "output_type": "execute_result"
    }
   ],
   "source": [
    "len(\"from=eve&tx_list=eve:100;eve:100\")"
   ]
  },
  {
   "cell_type": "code",
   "execution_count": 55,
   "metadata": {},
   "outputs": [
    {
     "data": {
      "text/plain": [
       "b'\\xb7aJ\\x8b\\xa5o-\\x0c\\xfdq\\xe87\\xeb\\xc8}\\xac'"
      ]
     },
     "execution_count": 55,
     "metadata": {},
     "output_type": "execute_result"
    }
   ],
   "source": [
    "os.urandom(16)"
   ]
  },
  {
   "cell_type": "code",
   "execution_count": 85,
   "metadata": {},
   "outputs": [
    {
     "data": {
      "text/plain": [
       "16"
      ]
     },
     "execution_count": 85,
     "metadata": {},
     "output_type": "execute_result"
    }
   ],
   "source": [
    "len( b'amount=10&to=eve')"
   ]
  },
  {
   "cell_type": "code",
   "execution_count": 82,
   "metadata": {},
   "outputs": [
    {
     "data": {
      "text/plain": [
       "16"
      ]
     },
     "execution_count": 82,
     "metadata": {},
     "output_type": "execute_result"
    }
   ],
   "source": [
    "len(new_iv)"
   ]
  },
  {
   "cell_type": "code",
   "execution_count": null,
   "metadata": {},
   "outputs": [],
   "source": []
  }
 ],
 "metadata": {
  "kernelspec": {
   "display_name": "Python 3",
   "language": "python",
   "name": "python3"
  },
  "language_info": {
   "codemirror_mode": {
    "name": "ipython",
    "version": 3
   },
   "file_extension": ".py",
   "mimetype": "text/x-python",
   "name": "python",
   "nbconvert_exporter": "python",
   "pygments_lexer": "ipython3",
   "version": "3.7.2"
  }
 },
 "nbformat": 4,
 "nbformat_minor": 2
}
