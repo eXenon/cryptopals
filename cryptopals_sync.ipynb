{
 "cells": [
  {
   "cell_type": "code",
   "execution_count": 218,
   "metadata": {},
   "outputs": [],
   "source": [
    "p = 0xC2B0C8D9BFE064019955C4A3819E31BFA6679B32BC5A2021D1EDC5EA83BCCFD79946200A6D5C7D349B69B1BE3EE01AF3C48811D9B95BD8740BB5EA5B3BD1CAB5\n",
    "q = 0xFC932034EA8B970B000C6C1CBBB7ACAB0ECC6D7C86840B75C9A2EAFC84536D04DF4F63B49B7852D65CC9FA313EB2E095C5A1B3E47BF9550447E65907741A43F9"
   ]
  },
  {
   "cell_type": "code",
   "execution_count": 219,
   "metadata": {},
   "outputs": [],
   "source": [
    "import os\n",
    "import base64\n",
    "import gensafeprime\n",
    "\n",
    "def primegen(n=2048):\n",
    "    \"\"\"Thats a reallly big prime generated using OpenSSL. It will do.\"\"\"\n",
    "    #return number.getPrime(n, os.urandom\n",
    "\n",
    "def egcd(a, b):\n",
    "    if a == 0:\n",
    "        return (b, 0, 1)\n",
    "    else:\n",
    "        g, y, x = egcd(b % a, a)\n",
    "        return (g, x - (b // a) * y, y)\n",
    "\n",
    "def invmod(a, m):\n",
    "    g, x, y = egcd(a, m)\n",
    "    if g != 1:\n",
    "        raise Exception('modular inverse does not exist')\n",
    "    else:\n",
    "        return x % m\n",
    "\n",
    "assert (invmod(15, 37) * 15) % 37 == 1\n",
    "assert invmod(17, 3120) == 2753\n",
    "\n",
    "def str_to_int(s):\n",
    "    return int(base64.b16encode(s), 16)\n",
    "def int_to_str(i):\n",
    "    s = hex(i)[2:].upper()\n",
    "    if len(s) % 2 == 1:\n",
    "        s = '0' + s # base16 wants even length strings, adding a 0 in front does not change the value. Perfect.\n",
    "    return base64.b16decode(s)\n",
    "assert int_to_str(str_to_int((b\"Hello, world !\"))) == b'Hello, world !'\n",
    "\n",
    "class RSA:\n",
    "    def __init__(self, p=None, q=None):\n",
    "        self.p = p or primegen()\n",
    "        self.q = q or primegen()\n",
    "        self.n = self.p * self.q\n",
    "        self.et = (self.p - 1) * (self.q - 1)\n",
    "        self.e = 3\n",
    "        self.d = invmod(self.e, self.et)\n",
    "    \n",
    "    @property\n",
    "    def public(self):\n",
    "        return self.e, self.n\n",
    "    \n",
    "    @property\n",
    "    def private(self):\n",
    "        return self.d, self.n\n",
    "    \n",
    "    def encrypt(self, s, i2s = True):\n",
    "        if isinstance(s, bytes):\n",
    "            m = str_to_int(s)\n",
    "            if m ** 3 < self.n:\n",
    "                print('Unsafe encryption.') # If the cubed message does not wrap around, it's not much use...\n",
    "            if i2s:\n",
    "                return int_to_str(pow(m, self.e, self.n))\n",
    "            else:\n",
    "                return pow(m, self.e, self.n)\n",
    "        else:\n",
    "            m = s\n",
    "            return pow(m, self.e, self.n)\n",
    "    \n",
    "    def decrypt(self, s, i2s = True):\n",
    "        if isinstance(s, bytes):\n",
    "            c = str_to_int(s)\n",
    "            if i2s:\n",
    "                return int_to_str(pow(c, self.d, self.n))\n",
    "            else:\n",
    "                return pow(c, self.d, self.n)\n",
    "        else:\n",
    "            c = s\n",
    "            return pow(c, self.d, self.n)\n",
    "        \n",
    "    \n",
    "r = RSA(p=p, q=q)\n",
    "assert r.decrypt(r.encrypt(b\"\\xFF\" * 50 + b\"Vanilla Ice Baby\")) == b\"\\xFF\" * 50 + b'Vanilla Ice Baby'"
   ]
  },
  {
   "cell_type": "code",
   "execution_count": 220,
   "metadata": {},
   "outputs": [],
   "source": [
    "import base64\n",
    "def oracle(encrypter, cypher):\n",
    "    \"\"\"Returns True if the plaintext is odd and False if it is even\"\"\"\n",
    "    return bool(encrypter.decrypt(cypher, i2s=False) % 2)\n",
    "\n",
    "message = \"VGhhdCdzIHdoeSBJIGZvdW5kIHlvdSBkb24ndCBwbGF5IGFyb3VuZCB3aXRoIHRoZSBGdW5reSBDb2xkIE1lZGluYQ==\"\n",
    "message = base64.b64decode(message)\n",
    "cypher = r.encrypt(message, i2s=False)"
   ]
  },
  {
   "cell_type": "code",
   "execution_count": 225,
   "metadata": {},
   "outputs": [
    {
     "name": "stderr",
     "output_type": "stream",
     "text": [
      "b\"That's why I found you don't play around with the Funky Cold Medin\\x1a\": 100%|██████████| 1043/1043 [00:35<00:00, 29.36it/s]                                                                                                                                                                                                                                                                                                                     \n"
     ]
    }
   ],
   "source": [
    "import tqdm\n",
    "lo, hi, c = 0, r.n, cypher\n",
    "cypher_2 = r.encrypt(2, i2s=False)\n",
    "pbar = tqdm.tqdm(range(int(math.log(r.n, 2))+20))\n",
    "for i in pbar:\n",
    "    pbar.set_description(str(int_to_str(hi)))\n",
    "    if oracle(r, c*cypher_2):\n",
    "        lo, hi, c = (hi+lo)//2, hi, c*cypher_2 - r.n\n",
    "    else:\n",
    "        lo, hi, c = lo, (hi+lo)//2, c*cypher_2"
   ]
  },
  {
   "cell_type": "code",
   "execution_count": 223,
   "metadata": {},
   "outputs": [
    {
     "data": {
      "text/plain": [
       "b\"That's why I found you don't play around with the Funky Cold Medin\\x1b\""
      ]
     },
     "execution_count": 223,
     "metadata": {},
     "output_type": "execute_result"
    }
   ],
   "source": [
    "int_to_str(hi)"
   ]
  },
  {
   "cell_type": "code",
   "execution_count": 188,
   "metadata": {},
   "outputs": [
    {
     "data": {
      "text/plain": [
       "0"
      ]
     },
     "execution_count": 188,
     "metadata": {},
     "output_type": "execute_result"
    }
   ],
   "source": [
    "hi-lo"
   ]
  },
  {
   "cell_type": "code",
   "execution_count": 148,
   "metadata": {},
   "outputs": [
    {
     "data": {
      "text/plain": [
       "11010048"
      ]
     },
     "execution_count": 148,
     "metadata": {},
     "output_type": "execute_result"
    }
   ],
   "source": [
    "42*2**18"
   ]
  },
  {
   "cell_type": "code",
   "execution_count": null,
   "metadata": {},
   "outputs": [],
   "source": []
  }
 ],
 "metadata": {
  "kernelspec": {
   "display_name": "Python 3",
   "language": "python",
   "name": "python3"
  },
  "language_info": {
   "codemirror_mode": {
    "name": "ipython",
    "version": 3
   },
   "file_extension": ".py",
   "mimetype": "text/x-python",
   "name": "python",
   "nbconvert_exporter": "python",
   "pygments_lexer": "ipython3",
   "version": "3.6.5"
  }
 },
 "nbformat": 4,
 "nbformat_minor": 2
}
