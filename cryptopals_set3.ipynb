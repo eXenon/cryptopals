{
 "cells": [
  {
   "cell_type": "markdown",
   "metadata": {},
   "source": [
    "# Generic\n",
    "\n",
    "This is mostly copied from the previous notebook"
   ]
  },
  {
   "cell_type": "code",
   "execution_count": 67,
   "metadata": {},
   "outputs": [],
   "source": [
    "import math\n",
    "import base64\n",
    "import binascii\n",
    "import numpy as np\n",
    "import matplotlib.pyplot as plt\n",
    "\n",
    "def to_bytes(d, format):\n",
    "    if isinstance(d, (bytes, bytearray)):\n",
    "        return d\n",
    "    elif format == 'hex':\n",
    "        return bytes(bytearray.fromhex(d))\n",
    "    elif format == 'base64':\n",
    "        return base64.b64decode(d)\n",
    "    elif format == 'str' or format == 'bytes':\n",
    "        return d.encode()\n",
    "    elif format == 'int':\n",
    "        return to_bytes(hex(d)[2:], 'hex')\n",
    "\n",
    "def bytes_to(b, format):\n",
    "    if not isinstance(b, (bytes, bytearray)):\n",
    "        return b\n",
    "    elif format == 'hex':\n",
    "        return binascii.hexlify(b).decode()\n",
    "    elif format == 'base64':\n",
    "        return base64.b64encode(b).decode()\n",
    "    elif format == 'str':\n",
    "        return b.decode()\n",
    "    elif format == 'bytes':\n",
    "        return b\n",
    "    elif format == 'int':\n",
    "        return int(bytes_to(b, 'hex')[2:], 16)\n",
    "    \n",
    "def draw_bytestring(bs):\n",
    "    \"\"\"Represent a byte string as a matrix of color\n",
    "    \"\"\"\n",
    "    tmp = bs + bytes(math.ceil(math.sqrt(len(bs)))**2 - len(bs))\n",
    "    tmp = [int(b) for b in tmp]\n",
    "    m = [[tmp[i:i+int(math.sqrt(len(tmp)))] for i in range(0, len(tmp), int(math.sqrt(len(tmp))))]]\n",
    "    matrix = np.matrix(m[0])\n",
    "    fig = plt.figure()\n",
    "    ax = fig.add_subplot(1,1,1)\n",
    "    ax.set_aspect('equal')\n",
    "    plt.imshow(matrix, interpolation='nearest', cmap=plt.cm.binary)\n",
    "    plt.colorbar()\n",
    "    plt.show()"
   ]
  },
  {
   "cell_type": "markdown",
   "metadata": {},
   "source": [
    "## Helpers\n",
    "\n",
    "Copied mostly from the previous notebook"
   ]
  },
  {
   "cell_type": "code",
   "execution_count": 3,
   "metadata": {},
   "outputs": [],
   "source": [
    "import re\n",
    "import string\n",
    "\n",
    "def count_letter_freq(text):\n",
    "    \"\"\"Count the frequence of each letter in a string\n",
    "    Return a dict\n",
    "    \"\"\"\n",
    "    letters = {}\n",
    "    total = 0\n",
    "    for l in text:\n",
    "        letters[l.lower()] = letters.get(l.lower(), 0) + 1\n",
    "        total += 1\n",
    "    return {l:s/total for l,s in letters.items()}\n",
    "\n",
    "def hamming_distance(b1, b2):\n",
    "    distance = 0\n",
    "    for char1, char2 in zip(b1,b2):\n",
    "        distance += bin(char1 ^ char2).count('1')\n",
    "    return distance\n",
    "assert hamming_distance(b'this is a test', b'wokka wokka!!!') == 37\n",
    "\n",
    "def count_upper_lower_signs(text):\n",
    "    \"\"\"Count the amount of uppercase letters, lowercase letters and other signs\n",
    "    \"\"\"\n",
    "    counter = {'upper': 0, 'lower': 0, 'signs': 0}\n",
    "    for c in text:\n",
    "        if c in string.ascii_lowercase:\n",
    "            counter['lower'] += 1\n",
    "        elif c in string.ascii_uppercase:\n",
    "            counter['upper'] += 1\n",
    "        else:\n",
    "            counter['signs'] += 1\n",
    "    return counter\n",
    "\n",
    "NON_PRINTABLE_REGEX = \"[^\\w \" + string.printable + \"\\n]\"\n",
    "def is_encodable(bs):\n",
    "    try:\n",
    "        return bs.decode()\n",
    "    except UnicodeDecodeError:\n",
    "        return False\n",
    "def is_text(s):\n",
    "    s_test = re.sub(NON_PRINTABLE_REGEX, \"\", s.strip())\n",
    "    return s_test == s.strip()\n",
    "def is_english(text):\n",
    "    \"\"\"Simple scoring function that counts probabilities of caracters and tries\n",
    "    to match them with the probabilities of the english language\"\"\"\n",
    "    if isinstance(text, (bytes, bytearray)):\n",
    "        s = is_encodable(text)\n",
    "    else:\n",
    "        s = text\n",
    "    if not s:\n",
    "        return 0\n",
    "    freqs = ['etaoin shrdlcumwfgypbvkjxqz', [12.702,9.056,8.167,7.507,6.966,6.749,6.4,6.327,6.094,5.987,4.253,4.025,2.782,2.758,2.406,2.360,2.228,2.015,1.974,1.929,1.492,0.978,0.772,0.153,0.150,0.095,0.074]]\n",
    "    nominal_scores = {l:s for l,s in zip(freqs[0], freqs[1])}\n",
    "    text_freqs = count_letter_freq(s)\n",
    "    score = 0\n",
    "    for letter, freq in text_freqs.items():\n",
    "        if letter.lower() in nominal_scores:\n",
    "            score += nominal_scores[letter.lower()]\n",
    "        else:\n",
    "            score -= 1\n",
    "    return max(score / len(text), 0)"
   ]
  },
  {
   "cell_type": "markdown",
   "metadata": {},
   "source": [
    "## Crypto 101\n",
    "\n",
    "This is mostly copied from the previous notebook"
   ]
  },
  {
   "cell_type": "code",
   "execution_count": 4,
   "metadata": {},
   "outputs": [],
   "source": [
    "import math\n",
    "import itertools\n",
    "from Crypto.Cipher import AES\n",
    "\n",
    "\n",
    "def pad(text, blocksize=16):\n",
    "    padsize = blocksize - (len(text) % blocksize)\n",
    "    if padsize == 0:\n",
    "        padsize = blocksize\n",
    "    return text + bytes([padsize]*padsize)\n",
    "assert pad(b\"YELLOW SUBMARINE\", blocksize=20) == b'YELLOW SUBMARINE\\x04\\x04\\x04\\x04'\n",
    "\n",
    "def unpad(text):\n",
    "    \"\"\"Validate padding and return unpadded value\"\"\"\n",
    "    assert text[-text[-1]:] == bytes([text[-1]]*text[-1])\n",
    "    return text[:-text[-1]]\n",
    "assert unpad(pad(b\"this is random text\", blocksize=7)) == b\"this is random text\"\n",
    "\n",
    "import math\n",
    "import itertools\n",
    "\n",
    "def xor(d1, d2, format):\n",
    "    b1,b2 = to_bytes(d1, format), to_bytes(d2, format)\n",
    "    return bytes_to(bytes(char1 ^ char2 for char1,char2 in zip(b1,b2)), format)\n",
    "\n",
    "def repeating_xor(s, key, format):\n",
    "    bs = to_bytes(s, format)\n",
    "    bkey = bytearray(itertools.islice(itertools.cycle(to_bytes(key, format)), len(bs)))\n",
    "    return xor(bs, bkey, format)\n",
    "\n",
    "def guess_repeating_xor_keysize(text, count=3, minsize=2, maxsize=40):\n",
    "    \"\"\"Try to guess the size of a repeating XOR key from a given ciphertext.\n",
    "    Return top <count> guesses.\n",
    "    \"\"\"\n",
    "    values = {}\n",
    "    for keysize in range(minsize, maxsize+1):\n",
    "        # We use 4 times the keysize in order to get a better reading\n",
    "        values[keysize] = hamming_distance(text[:keysize*4], text[keysize*4:2*keysize*4]) / (keysize*4)\n",
    "    values = [(keysize, value) for keysize, value in values.items()]\n",
    "    values.sort(key=lambda x:x[1]) # The best guess is the lowest hamming distance\n",
    "    return [keysize for keysize,_ in values[:count]]\n",
    "    \n",
    "\n",
    "def crack_single_char_xor(text):\n",
    "    \"\"\"Try to crack a cipher as a single character XOR of english text\n",
    "    \"\"\"\n",
    "    bestguess = {'key': 0, 'confidence': -len(text), 'cleartext': ''}\n",
    "    for i in range(256):\n",
    "        try:\n",
    "            score = is_english(xor(text, bytes([i]*len(text)), 'bytes'))\n",
    "            if score > bestguess['confidence']:\n",
    "                bestguess['key'] = bytes([i])\n",
    "                bestguess['confidence'] = score\n",
    "                bestguess['cleartext'] = xor(text, bytes([i]*len(text)), 'str')\n",
    "        except UnicodeDecodeError:\n",
    "            pass\n",
    "    return bestguess\n",
    "\n",
    "def crack_repeating_xor(text, keysize):\n",
    "    \"\"\"Try to crack a cipher as a repeating key XOR, with a given keysize\n",
    "    \"\"\"\n",
    "    # Split into blocks of size keysize\n",
    "    blocks = [text[i:i+keysize] for i in range(0, len(text), keysize)]\n",
    "    \n",
    "    # Now, refactor blocks to be all encrypted with the same caracter\n",
    "    # (every n-th caracter of a block is encrypted with the same n-th caracter of the key)\n",
    "    transposed_blocks = [bytes(block[n] for block in blocks if len(block) > n) for n in range(keysize)]\n",
    "    \n",
    "    # Solve every transposed block for single-caracter xor\n",
    "    cleartext_transposed_blocks = [crack_single_char_xor(block) for block in transposed_blocks]\n",
    "    \n",
    "    # Rebuild and return cleartext\n",
    "    #key = bytes(block['key'][0] for block in cleartext_transposed_blocks)\n",
    "    key = b''.join(block['key'] for block in cleartext_transposed_blocks)\n",
    "    cleartext = repeating_xor(text, key, 'str')\n",
    "    confidence = sum(block['confidence'] for block in cleartext_transposed_blocks) / len(cleartext_transposed_blocks)\n",
    "    \n",
    "    return {'key': key, 'cleartext':cleartext, 'confidence':confidence}\n",
    "\n",
    "def decrypt_aes_ecb(cipher, key, IV=None, use_padding=True):\n",
    "    \"\"\"No magic here\n",
    "    (The IV is not actually used)\"\"\"\n",
    "    aes = AES.new(key, AES.MODE_ECB)\n",
    "    if use_padding:\n",
    "        return unpad(aes.decrypt(cipher))\n",
    "    else:\n",
    "        return aes.decrypt(cipher)\n",
    "def encrypt_aes_ecb(clear, key, IV=None, use_padding=True):\n",
    "    \"\"\"No magic here\n",
    "    (The IV is not actually used)\"\"\"\n",
    "    aes = AES.new(key, AES.MODE_ECB)\n",
    "    if use_padding:\n",
    "        clear = pad(clear)\n",
    "    return aes.encrypt(clear)\n",
    "assert decrypt_aes_ecb(encrypt_aes_ecb(b'test', 'YELLOW SUBMARINE'), 'YELLOW SUBMARINE') == b'test'\n",
    "\n",
    "def encrypt_aes_cbc(clear, key, IV=None):\n",
    "    \"\"\"CBC using the ECB mode of above\n",
    "    \"\"\"\n",
    "    if IV is None:\n",
    "        IV=b'\\x00'*16\n",
    "    clear = pad(clear)\n",
    "    prev_block = IV\n",
    "    cipher = b''\n",
    "    for blockstart in range(0, len(clear), 16):\n",
    "        block = clear[blockstart:blockstart+16]\n",
    "        cipher_block = encrypt_aes_ecb(xor(prev_block, block, 'bytes'), key, use_padding=False)\n",
    "        prev_block = cipher_block\n",
    "        cipher += cipher_block\n",
    "    return cipher\n",
    "\n",
    "def decrypt_aes_cbc(cipher, key, IV=None):\n",
    "    \"\"\"CBC using the ECB mode of above\n",
    "    \"\"\"\n",
    "    if IV is None:\n",
    "        IV=b'\\x00'*16\n",
    "    clear = b''\n",
    "    prev_block = IV\n",
    "    for blockstart in range(0, len(cipher), 16):\n",
    "        block = cipher[blockstart:blockstart+16]\n",
    "        tmp = decrypt_aes_ecb(block, key, use_padding=False)\n",
    "        clear_block = xor(prev_block, tmp, 'bytes')\n",
    "        prev_block = cipher[blockstart:blockstart+16]\n",
    "        clear += clear_block\n",
    "    return unpad(clear)\n",
    "assert decrypt_aes_cbc(encrypt_aes_cbc(b'test'*200, b'YELLOW SUBMARINE'), b'YELLOW SUBMARINE') == b'test'*200\n",
    "\n",
    "\n",
    "def aes_ctr_generator(key, nonce=0):\n",
    "    \"\"\"Generate a keystream using AES-CTR.\n",
    "    \"\"\"\n",
    "    while True:\n",
    "        counter = nonce.to_bytes(9, 'big') + b'\\x00'*7\n",
    "        yield encrypt_aes_ecb(counter, key, use_padding=False)\n",
    "        nonce += 1\n",
    "        \n",
    "def encrypt_aes_ctr(key, cleartext, nonce=0):\n",
    "    \"\"\"Encrypt some text with AEs-CTR.\n",
    "    \"\"\"\n",
    "    cipher = b''\n",
    "    keystream = aes_ctr_generator(key, nonce=nonce)\n",
    "    for i in range(0, len(cleartext), 16):\n",
    "        block = cleartext[i:i+16]\n",
    "        cipher += xor(block, next(keystream), 'bytes')\n",
    "    return cipher\n",
    "\n",
    "decrypt_aes_ctr = encrypt_aes_ctr # Such elegance !"
   ]
  },
  {
   "cell_type": "markdown",
   "metadata": {},
   "source": [
    "## Crypto 102"
   ]
  },
  {
   "cell_type": "code",
   "execution_count": 5,
   "metadata": {
    "collapsed": true
   },
   "outputs": [],
   "source": [
    "def padding_oracle_attack(cipher, oracle, iv, blocksize=16):\n",
    "    # The decryption is made block by block in order and byte per byte in reverse order\n",
    "    # The first block being the IV, it is not decrypted\n",
    "    \n",
    "    # Note : this is a statistical attack and may end up looping forever.\n",
    "    # You should watch out for the 'Cracking block' messages\n",
    "    \n",
    "    blocks = [iv] + [cipher[i:i+blocksize] for i in range(0, len(cipher), blocksize)]\n",
    "    cleartext = b''\n",
    "    for blockidx in range(1, len(blocks)):\n",
    "        print('Cracking block', blockidx)\n",
    "        suffix = b''\n",
    "        block = blocks[blockidx]\n",
    "        prevblock = blocks[blockidx-1]\n",
    "        clearblock = b''\n",
    "        for i in range(len(block)-1, -1, -1):\n",
    "            # Make random changes to ith byte of block[n-1]\n",
    "            # If the result has been accepted, then we know\n",
    "            # we have a padding of size i\n",
    "\n",
    "            testbyte = bytes([random.randint(0, 255)])\n",
    "            testblock = prevblock[:-len(suffix)-1] + testbyte + suffix\n",
    "            if blockidx == 1:\n",
    "                iv = testblock\n",
    "            else:\n",
    "                iv = blocks[0]\n",
    "            while not oracle(b''.join(blocks[1:blockidx-1]) + testblock + blocks[blockidx], iv):\n",
    "                testbyte = bytes([random.randint(0, 255)])\n",
    "                testblock = prevblock[:-len(suffix)-1] + testbyte + suffix\n",
    "\n",
    "            # We passed \\o/ !\n",
    "            expected_padding_byte = bytes([16-i])\n",
    "            clearblock = xor(xor(expected_padding_byte, testbyte, 'bytes'), bytes([prevblock[i]]), 'bytes') + clearblock\n",
    "\n",
    "            # Update stuff\n",
    "            next_expected_padding_byte = bytes([16-i+1])\n",
    "            old_suffix = suffix\n",
    "            suffix = xor(xor(testbyte, expected_padding_byte, 'bytes'), next_expected_padding_byte, 'bytes')\n",
    "            suffix += xor(xor(old_suffix, expected_padding_byte*len(old_suffix), 'bytes'), next_expected_padding_byte*len(old_suffix), 'bytes')\n",
    "\n",
    "        # Return cleartext\n",
    "        cleartext += clearblock\n",
    "\n",
    "    return cleartext"
   ]
  },
  {
   "cell_type": "markdown",
   "metadata": {},
   "source": [
    "A generic class for Mersenne Twisters.\n",
    "Also, tools allowing us to do stuff around the MT19937 RNG."
   ]
  },
  {
   "cell_type": "code",
   "execution_count": 6,
   "metadata": {},
   "outputs": [],
   "source": [
    "import random\n",
    "\n",
    "class MersenneTwister:\n",
    "    def __init__(self, w, n, m, r, a, b, c, s, t, u, d, l, f):\n",
    "        assert w > 2\n",
    "        assert 1 <= m < n\n",
    "        assert 0 <= r < w\n",
    "        self.w, self.n, self.m, self.r = w, n, m, r\n",
    "        self.a, self.b, self.c, self.s = a, b, c, s\n",
    "        self.t, self.u, self.d, self.l = t, u, d, l\n",
    "        self.f = f\n",
    "        self.index = 0 # Keep track of how many numbers we have generated, modulo n\n",
    "        self.real_index = 0 # Actual counter\n",
    "        \n",
    "    def _get_word(self, i):\n",
    "        return int(i & (2**self.w - 1))\n",
    "    \n",
    "    def _get_low(self, i):\n",
    "        return self._get_word(int(i & (2**self.r - 1)))\n",
    "    \n",
    "    def _get_hi(self, i):\n",
    "        return self._get_word(int(i & ((2**(self.w - self.r)-1)*2**self.r)))\n",
    "    \n",
    "    def seed(self, x0):\n",
    "        wx0 = self._get_word(x0) # Keep only lowest w bits\n",
    "        self._buffer = [wx0]\n",
    "        self.index = self.n\n",
    "        for i in range(1, self.n):\n",
    "            self._buffer.append(\n",
    "                self._get_word(self.f * \\\n",
    "                                (self._buffer[i-1] ^ (self._buffer[i-1] >> (self.w - 2))) + i)\n",
    "            )\n",
    "        return True\n",
    "    \n",
    "    def generate(self):\n",
    "        if self.index >= self.n:\n",
    "            self.twist()\n",
    "            \n",
    "        y = self._buffer[self.index]\n",
    "        y = y ^ ((y >> self.u) & self.d)\n",
    "        y = y ^ ((y << self.s) & self.b)\n",
    "        y = y ^ ((y << self.t) & self.c)\n",
    "        z = y ^ (y >> self.l)\n",
    "        \n",
    "        self.index += 1\n",
    "        self.real_index += 1\n",
    "        return self._get_word(z)\n",
    "    \n",
    "    def twist(self):\n",
    "        for i in range(self.n):\n",
    "            y = self._get_hi(self._buffer[i]) + self._get_low(self._buffer[(i+1) % self.n])\n",
    "            self._buffer[i] = self._buffer[(i+self.m) % self.n] ^ (y >> 1)\n",
    "            if y % 2 != 0:\n",
    "                self._buffer[i] = self._buffer[i] ^ self.a\n",
    "        self.index = 0\n",
    "        \n",
    "            \n",
    "def Mersenne19937(i):\n",
    "    m = MersenneTwister(w=32, n=624, m = 397, r=31,\n",
    "                    a=0x9908B0DF, u=11, d=0xFFFFFFFF,\n",
    "                    s=7, b=0x9D2C5680, t=15,\n",
    "                    c=0xEFC60000, l=18, f=1812433253)\n",
    "    m.seed(i)\n",
    "    return m\n",
    "\n",
    "def undo_rightshift_mask(z, s, m, wordlength=32):\n",
    "    \"\"\"Find a where z = a ^ [(a >> s) & m]\n",
    "    \"\"\"\n",
    "    binary_a = ''\n",
    "    binary_z = bin(z)[2:]\n",
    "    binary_m = bin(m)[2:]\n",
    "    # Pad m and z representations to wordlength :\n",
    "    binary_z = '0' * max(wordlength - len(binary_z), 0) + binary_z\n",
    "    binary_m = '0' * max(wordlength - len(binary_m), 0) + binary_m\n",
    "    for i in range(s): # The first bits are easy\n",
    "        binary_a = binary_a + binary_z[i]\n",
    "    for i in range(s, wordlength): # The rest may required alreayd known bits\n",
    "        if binary_m[i] == '1':\n",
    "            binary_a = binary_a + str(int(binary_z[i]) ^ int(binary_a[i-s])) # a[i-s] is known !\n",
    "        else:\n",
    "            binary_a = binary_a + binary_z[i]\n",
    "    return int(binary_a, 2)\n",
    "        \n",
    "\n",
    "def undo_leftshift_mask(z, s, m, wordlength=32):\n",
    "    \"\"\"Find a where z = a ^ [(a << s) & m]\n",
    "    \"\"\"\n",
    "    binary_a = ''\n",
    "    binary_z = bin(z)[2:]\n",
    "    binary_m = bin(m)[2:]\n",
    "    # Pad m and z representations to wordlength :\n",
    "    binary_z = '0' * max(wordlength - len(binary_z), 0) + binary_z\n",
    "    binary_m = '0' * max(wordlength - len(binary_m), 0) + binary_m\n",
    "    for i in range(s): # The first bits are easy\n",
    "        binary_a = binary_z[-i-1] + binary_a\n",
    "    for i in range(s, wordlength): # The rest may required alreayd known bits\n",
    "        if binary_m[-i-1] == '1':\n",
    "            binary_a = str(int(binary_z[-i-1]) ^ int(binary_a[-i-1+s])) + binary_a # a[-i-1+s] is known !\n",
    "        else:\n",
    "            binary_a = binary_z[-i-1] + binary_a\n",
    "    return int(binary_a, 2)\n",
    "\n",
    "# Test our reversers\n",
    "y = random.randint(1, 2**32)\n",
    "m = random.randint(1, 2**32)\n",
    "s = random.randint(1, 32)\n",
    "z = y ^ y >> s & m\n",
    "z2 = y ^ y << s & m\n",
    "assert y == undo_rightshift_mask(z, s, m)\n",
    "assert y == undo_leftshift_mask(z2, s, m)\n",
    "\n",
    "def untemper(i):\n",
    "    \"\"\"Assume MT19937 RNG\"\"\"\n",
    "    i = undo_rightshift_mask(i, 18, 0xFFFFFFFF)\n",
    "    i = undo_leftshift_mask(i, 15, 4022730752)\n",
    "    i = undo_leftshift_mask(i, 7, 2636928640)\n",
    "    return undo_rightshift_mask(i, 11, 0xFFFFFFFF)\n",
    "\n",
    "# A MT19937 generator is determined entirely by its 624 state integers !\n",
    "def clone_rng(rng):\n",
    "    \"\"\"Assume MT19937 RNG\"\"\"\n",
    "    _state = []\n",
    "    for i in range(624):\n",
    "        _state.append(untemper(rng.generate()))\n",
    "    clone = Mersenne19937(0)\n",
    "    clone._buffer = _state\n",
    "    clone.index = 624 # We just generated 624 numbers with the old RNG\n",
    "    return clone"
   ]
  },
  {
   "cell_type": "markdown",
   "metadata": {},
   "source": [
    "### Crypto 103"
   ]
  },
  {
   "cell_type": "code",
   "execution_count": 7,
   "metadata": {},
   "outputs": [],
   "source": [
    "def mt19937_ctr_generator(key):\n",
    "    # Ensure the key is 16bit\n",
    "    if isinstance(key, str):\n",
    "        assert len(key) >= 2\n",
    "        key = ord(key[1]) * 0xFF + ord(key[0])\n",
    "    elif isinstance(key, bytes):\n",
    "        assert len(key) >= 2\n",
    "        key = key[1] * 0xFF + key[0]\n",
    "    key16bit = key & 0xFFFF\n",
    "    rng = Mersenne19937(key16bit)\n",
    "    while True:\n",
    "        i = rng.generate()\n",
    "        yield bytes([i & 0xFF])\n",
    "        yield bytes([(i & 0xFF00) >> 8])\n",
    "        yield bytes([(i & 0xFF0000) >> 16])\n",
    "        yield bytes([(i & 0xFF000000) >> 24])\n",
    "        \n",
    "def encrypt_mt19937_ctr(key, cleartext):\n",
    "    keystream = mt19937_ctr_generator(key)\n",
    "    cipher = b''\n",
    "    for c in cleartext:\n",
    "        n = next(keystream)\n",
    "        cipher += xor(bytes([c]), next(keystream), 'bytes')\n",
    "    return cipher\n",
    "\n",
    "decrypt_mt19937_ctr = encrypt_mt19937_ctr # Such elegance !\n",
    "\n",
    "assert decrypt_mt19937_ctr('key', encrypt_mt19937_ctr('key', b'this is a long cleartext')) == b'this is a long cleartext'"
   ]
  },
  {
   "cell_type": "markdown",
   "metadata": {},
   "source": [
    "# Cryptopals notebook - part 2\n",
    "\n",
    "## Set 3\n",
    "\n",
    "### Exercice 17\n",
    "\n",
    "Start with a few context functions"
   ]
  },
  {
   "cell_type": "code",
   "execution_count": 5,
   "metadata": {},
   "outputs": [],
   "source": [
    "import os, random\n",
    "\n",
    "def producer():\n",
    "    # I'll assume it's not one key per random string\n",
    "    key = b'u\\x9b(U\\xdb\\\\\\xe9\\xe3B\\x1dN&\\xb3\\xb6\\xb7\\xa0'\n",
    "    IV = os.urandom(16)\n",
    "    s =  random.choice(['MDAwMDAwTm93IHRoYXQgdGhlIHBhcnR5IGlzIGp1bXBpbmc=',\n",
    "                          'MDAwMDAxV2l0aCB0aGUgYmFzcyBraWNrZWQgaW4gYW5kIHRoZSBWZWdhJ3MgYXJlIHB1bXBpbic=',\n",
    "                          'MDAwMDAyUXVpY2sgdG8gdGhlIHBvaW50LCB0byB0aGUgcG9pbnQsIG5vIGZha2luZw==',\n",
    "                          'MDAwMDAzQ29va2luZyBNQydzIGxpa2UgYSBwb3VuZCBvZiBiYWNvbg==',\n",
    "                          'MDAwMDA0QnVybmluZyAnZW0sIGlmIHlvdSBhaW4ndCBxdWljayBhbmQgbmltYmxl',\n",
    "                          'MDAwMDA1SSBnbyBjcmF6eSB3aGVuIEkgaGVhciBhIGN5bWJhbA==',\n",
    "                          'MDAwMDA2QW5kIGEgaGlnaCBoYXQgd2l0aCBhIHNvdXBlZCB1cCB0ZW1wbw==',\n",
    "                          'MDAwMDA3SSdtIG9uIGEgcm9sbCwgaXQncyB0aW1lIHRvIGdvIHNvbG8=',\n",
    "                          'MDAwMDA4b2xsaW4nIGluIG15IGZpdmUgcG9pbnQgb2g=',\n",
    "                          'MDAwMDA5aXRoIG15IHJhZy10b3AgZG93biBzbyBteSBoYWlyIGNhbiBibG93',])\n",
    "    return encrypt_aes_cbc(to_bytes(s, 'base64'), key, IV=IV), IV\n",
    "\n",
    "def consumer(c, IV):\n",
    "    key = b'u\\x9b(U\\xdb\\\\\\xe9\\xe3B\\x1dN&\\xb3\\xb6\\xb7\\xa0'\n",
    "    try:\n",
    "        decrypt_aes_cbc(c, key=key, IV=IV)\n",
    "        return True\n",
    "    except AssertionError as e:\n",
    "        # This means a padding error has been detected\n",
    "        return False\n",
    "    \n",
    "assert consumer(*producer())"
   ]
  },
  {
   "cell_type": "code",
   "execution_count": 8,
   "metadata": {},
   "outputs": [
    {
     "name": "stdout",
     "output_type": "stream",
     "text": [
      "Cracking block 1\n",
      "Cracking block 2\n",
      "Cracking block 3\n",
      "b'000005I go crazy when I hear a cymbal\\x0b\\x0b\\x0b\\x0b\\x0b\\x0b\\x0b\\x0b\\x0b\\x0b\\x0b'\n"
     ]
    }
   ],
   "source": [
    "# These two functions should allow us to break the crypto\n",
    "cipher, IV = producer()\n",
    "print(padding_oracle_attack(oracle=consumer, iv=IV, cipher=cipher))"
   ]
  },
  {
   "cell_type": "markdown",
   "metadata": {},
   "source": [
    "### Exercice 18"
   ]
  },
  {
   "cell_type": "code",
   "execution_count": 9,
   "metadata": {},
   "outputs": [
    {
     "name": "stdout",
     "output_type": "stream",
     "text": [
      "b\"Yo, VIP Let's kick it Ice, Ice, baby Ice, Ice, baby \"\n"
     ]
    }
   ],
   "source": [
    "cipher = to_bytes('L77na/nrFsKvynd6HzOoG7GHTLXsTVu9qvY/2syLXzhPweyyMTJULu/6/kXX0KSvoOLSFQ==', 'base64')\n",
    "key = b'YELLOW SUBMARINE'\n",
    "print(decrypt_aes_ctr(key, cipher))"
   ]
  },
  {
   "cell_type": "markdown",
   "metadata": {},
   "source": [
    "### Exercice 19\n",
    "\n",
    "This exercice will not be fully automated. Apparently, this method is suboptimal."
   ]
  },
  {
   "cell_type": "code",
   "execution_count": 6,
   "metadata": {},
   "outputs": [],
   "source": [
    "# Generate a series of ciphers using the same nonce and key everytime\n",
    "\n",
    "key = b'6W\\x1a\\\\h\\xcbAb\\xdfV!i\\xbdo\\xfc#'\n",
    "ciphers = ['SSBoYXZlIG1ldCB0aGVtIGF0IGNsb3NlIG9mIGRheQ==',\n",
    "'Q29taW5nIHdpdGggdml2aWQgZmFjZXM=',\n",
    "'RnJvbSBjb3VudGVyIG9yIGRlc2sgYW1vbmcgZ3JleQ==',\n",
    "'RWlnaHRlZW50aC1jZW50dXJ5IGhvdXNlcy4=',\n",
    "'SSBoYXZlIHBhc3NlZCB3aXRoIGEgbm9kIG9mIHRoZSBoZWFk',\n",
    "'T3IgcG9saXRlIG1lYW5pbmdsZXNzIHdvcmRzLA==',\n",
    "'T3IgaGF2ZSBsaW5nZXJlZCBhd2hpbGUgYW5kIHNhaWQ=',\n",
    "'UG9saXRlIG1lYW5pbmdsZXNzIHdvcmRzLA==',\n",
    "'QW5kIHRob3VnaHQgYmVmb3JlIEkgaGFkIGRvbmU=',\n",
    "'T2YgYSBtb2NraW5nIHRhbGUgb3IgYSBnaWJl',\n",
    "'VG8gcGxlYXNlIGEgY29tcGFuaW9u',\n",
    "'QXJvdW5kIHRoZSBmaXJlIGF0IHRoZSBjbHViLA==',\n",
    "'QmVpbmcgY2VydGFpbiB0aGF0IHRoZXkgYW5kIEk=',\n",
    "'QnV0IGxpdmVkIHdoZXJlIG1vdGxleSBpcyB3b3JuOg==',\n",
    "'QWxsIGNoYW5nZWQsIGNoYW5nZWQgdXR0ZXJseTo=',\n",
    "'QSB0ZXJyaWJsZSBiZWF1dHkgaXMgYm9ybi4=',\n",
    "'VGhhdCB3b21hbidzIGRheXMgd2VyZSBzcGVudA==',\n",
    "'SW4gaWdub3JhbnQgZ29vZCB3aWxsLA==',\n",
    "'SGVyIG5pZ2h0cyBpbiBhcmd1bWVudA==',\n",
    "'VW50aWwgaGVyIHZvaWNlIGdyZXcgc2hyaWxsLg==',\n",
    "'V2hhdCB2b2ljZSBtb3JlIHN3ZWV0IHRoYW4gaGVycw==',\n",
    "'V2hlbiB5b3VuZyBhbmQgYmVhdXRpZnVsLA==',\n",
    "'U2hlIHJvZGUgdG8gaGFycmllcnM/',\n",
    "'VGhpcyBtYW4gaGFkIGtlcHQgYSBzY2hvb2w=',\n",
    "'QW5kIHJvZGUgb3VyIHdpbmdlZCBob3JzZS4=',\n",
    "'VGhpcyBvdGhlciBoaXMgaGVscGVyIGFuZCBmcmllbmQ=',\n",
    "'V2FzIGNvbWluZyBpbnRvIGhpcyBmb3JjZTs=',\n",
    "'SGUgbWlnaHQgaGF2ZSB3b24gZmFtZSBpbiB0aGUgZW5kLA==',\n",
    "'U28gc2Vuc2l0aXZlIGhpcyBuYXR1cmUgc2VlbWVkLA==',\n",
    "'U28gZGFyaW5nIGFuZCBzd2VldCBoaXMgdGhvdWdodC4=',\n",
    "'VGhpcyBvdGhlciBtYW4gSSBoYWQgZHJlYW1lZA==',\n",
    "'QSBkcnVua2VuLCB2YWluLWdsb3Jpb3VzIGxvdXQu',\n",
    "'SGUgaGFkIGRvbmUgbW9zdCBiaXR0ZXIgd3Jvbmc=',\n",
    "'VG8gc29tZSB3aG8gYXJlIG5lYXIgbXkgaGVhcnQs',\n",
    "'WWV0IEkgbnVtYmVyIGhpbSBpbiB0aGUgc29uZzs=',\n",
    "'SGUsIHRvbywgaGFzIHJlc2lnbmVkIGhpcyBwYXJ0',\n",
    "'SW4gdGhlIGNhc3VhbCBjb21lZHk7',\n",
    "'SGUsIHRvbywgaGFzIGJlZW4gY2hhbmdlZCBpbiBoaXMgdHVybiw=',\n",
    "'VHJhbnNmb3JtZWQgdXR0ZXJseTo=',\n",
    "'QSB0ZXJyaWJsZSBiZWF1dHkgaXMgYm9ybi4=]',]\n",
    "ciphers = [encrypt_aes_ctr(key, to_bytes(c, 'base64')) for c in ciphers]"
   ]
  },
  {
   "cell_type": "markdown",
   "metadata": {},
   "source": [
    "Now, let's break'em. Fixed nonce CTR is basically a fixed key XOR with a long key, so statistical analysis applies. Or brute force even. There are only 255 possibilities for each letter..."
   ]
  },
  {
   "cell_type": "code",
   "execution_count": 41,
   "metadata": {},
   "outputs": [
    {
     "name": "stdout",
     "output_type": "stream",
     "text": [
      "Byte 0 has only 2 possibilities remaining\n",
      "Byte 1 has only 2 possibilities remaining\n",
      "Byte 2 has only 1 possibilities remaining\n",
      "Byte 3 has only 2 possibilities remaining\n",
      "Byte 4 has only 1 possibilities remaining\n",
      "Byte 5 has only 2 possibilities remaining\n",
      "Byte 6 has only 1 possibilities remaining\n",
      "Byte 7 has only 2 possibilities remaining\n",
      "Byte 8 has only 1 possibilities remaining\n",
      "Byte 9 has only 1 possibilities remaining\n",
      "Byte 10 has only 1 possibilities remaining\n",
      "Byte 11 has only 1 possibilities remaining\n",
      "Byte 12 has only 1 possibilities remaining\n",
      "Byte 13 has only 1 possibilities remaining\n",
      "Byte 14 has only 2 possibilities remaining\n",
      "Byte 15 has only 1 possibilities remaining\n",
      "Byte 16 has only 1 possibilities remaining\n",
      "Byte 17 has only 1 possibilities remaining\n",
      "Byte 18 has only 1 possibilities remaining\n",
      "Byte 19 has only 1 possibilities remaining\n",
      "Byte 20 has only 1 possibilities remaining\n",
      "Byte 21 has only 1 possibilities remaining\n",
      "Byte 22 has only 1 possibilities remaining\n",
      "Byte 23 has only 2 possibilities remaining\n",
      "Byte 24 has only 1 possibilities remaining\n",
      "Byte 25 has only 1 possibilities remaining\n",
      "Byte 26 has only 2 possibilities remaining\n",
      "Byte 27 has only 1 possibilities remaining\n",
      "Byte 28 has only 2 possibilities remaining\n",
      "Byte 29 has only 1 possibilities remaining\n",
      "Byte 30 has only 2 possibilities remaining\n",
      "Byte 31 has only 2 possibilities remaining\n",
      "We found 1408288358400 possible keys\n"
     ]
    }
   ],
   "source": [
    "import string\n",
    "import itertools\n",
    "\n",
    "def get_ascii_xor_key(s):\n",
    "    \"\"\"Using a very simplistic heuristic, try to find \n",
    "    a possible repeating, 1-char XOR key for a given string\n",
    "    that ensures that the target is in target ASCII english caracters\n",
    "    \"\"\"\n",
    "    possibilities = []\n",
    "    for i in range(256):\n",
    "        result = xor(s, bytes([i]*len(s)), 'bytes')\n",
    "        try:\n",
    "            assert all(l in string.ascii_letters + ' \\',.-;:?!' for l in result.decode('ascii'))\n",
    "            possibilities.append(bytes([i]))\n",
    "        except:\n",
    "            pass\n",
    "    return possibilities\n",
    "        \n",
    "\n",
    "# First, bruteforce and check if every letter is in the desired target space\n",
    "# We build a set of possible keys based on that simple criteria.\n",
    "cleartexts = []\n",
    "keys = []\n",
    "maxlen = max(len(c) for c in ciphers)\n",
    "for idx in range(maxlen):\n",
    "    hline = bytes([c[idx] for c in ciphers if idx<len(c)])\n",
    "    possibilities = get_ascii_xor_key(hline)\n",
    "    if possibilities != []:\n",
    "        keys.append(possibilities)\n",
    "    else:\n",
    "        keys.append(range(256))\n",
    "\n",
    "# We now have a set of keys :\n",
    "keyspace = 1\n",
    "for idx, l in enumerate([len(k) for k in keys]):\n",
    "    if l<3:\n",
    "        print('Byte', idx, 'has only', l, 'possibilities remaining')\n",
    "    keyspace *= l\n",
    "print('We found %s possible keys' % keyspace)\n",
    "\n",
    "# Up until byte 31, its pretty good, and there are only 2048 keys left.\n",
    "# Let's base it around these 2048 and decode the remaining 6 bytes by hand if necessary.\n",
    "short_keys = [k*(len(k)<3) + [k[0]]*(len(k)>2) for k in keys]\n",
    "keyspace = [b''.join(k) for k in itertools.product(*short_keys)]"
   ]
  },
  {
   "cell_type": "code",
   "execution_count": 54,
   "metadata": {},
   "outputs": [
    {
     "name": "stderr",
     "output_type": "stream",
     "text": [
      "                          "
     ]
    },
    {
     "name": "stdout",
     "output_type": "stream",
     "text": [
      "Max key b\"\\x96\\xb0\\x84\\x18l\\xa1\\x1c/\\xd7\\xdd\\xd1\\x8f\\xed4\\x9a;\\x1d\\xc7O\\x9f\\x0b\\x93\\x06\\xb7':9C\\x0b\\xd1J*2\\xaf'\\x00\\xa1\\x00\" with score 0.08892121754700091\n",
      "Result : [b'i hfve met thej at close of dax', b'comnng with viqid faces', b'froj counter ou desk among grex', b'eigoteenth-censury houses.', b'i hfve passed pith a nod of thdih..E', b'or wolite meannngless words,', b'or oave lingerbd awhile and sah-', b'polnte meaningkess words,', b\"and'thought beaore I had done\", b'of f mocking tfle or a gibe', b'to wlease a cojpanion', b'arornd the firb at the club,', b'beiig certain shat they and I', b\"but'lived wherb motley is worn;\", b\"all'changed, coanged utterly:\", b'a tbrrible bearty is born.', b\"thas woman's dfys were spent\", b'in ngnorant gohd will,', b\"her'nights in frgument\", b'untnl her voicb grew shrill.', b'whas voice morb sweet than herr', b\"whei young and'beautiful,\", b\"she'rode to hauriers?\", b'thit man had kbpt a school', b\"and'rode our wnnged horse.\", b\"thit other his'helper and frieo-\", b\"was'coming inth his force;\", b\"he jight have pon fame in the d'dg\", b'so tensitive hns nature seemed-', b'so caring and tweet his thoughug', b\"thit other man'I had dreamed\", b'a duunken, vaii-glorious lout.', b'he oad done mott bitter wrong', b'to tome who arb near my heart,', b\"yet'I number hnm in the song;\", b\"he,'too, has rbsigned his part\", b'in she casual domedy;', b\"he,'too, has bben changed in hh: ?:S.d\", b'traisformed utserly:', b'a tbrrible bearty is born.']\n"
     ]
    },
    {
     "name": "stderr",
     "output_type": "stream",
     "text": [
      "\r"
     ]
    }
   ],
   "source": [
    "# Score everey key and find max\n",
    "import tqdm\n",
    "\n",
    "def decrypt_ciphers_and_concatenate(key, ciphers):\n",
    "    clears = b''\n",
    "    for c in ciphers:\n",
    "        clears += xor(key, c, 'bytes')\n",
    "    return bytes_to(clears, 'str')\n",
    "\n",
    "scored_keys = []\n",
    "max_key = keyspace[0]\n",
    "max_score = is_english(decrypt_ciphers_and_concatenate(keyspace[0], ciphers))\n",
    "max_idx = 0\n",
    "scored_keys.append((max_score, keyspace[0]))\n",
    "for idx, k in tqdm.tqdm(enumerate(keyspace[1:])):\n",
    "    score = is_english(decrypt_ciphers_and_concatenate(k, ciphers))\n",
    "    scored_keys.append((score, k))\n",
    "    if score > max_score:\n",
    "        max_score = score\n",
    "        max_key = k\n",
    "        max_idx = idx\n",
    "\n",
    "scored_keys.sort(key=lambda x:x[0], reverse=True)\n",
    "print('Max key', max_key, 'with score', max_score)\n",
    "print('Result :', [xor(scored_keys[0][1], c, 'bytes') for c in ciphers])"
   ]
  },
  {
   "cell_type": "code",
   "execution_count": 73,
   "metadata": {},
   "outputs": [
    {
     "name": "stdout",
     "output_type": "stream",
     "text": [
      "Result : [(4, b'I have passed with a nod of theih..E'), (6, b'Or have lingered awhile and sai-'), (25, b'This other his helper and frien-'), (27, b\"He might have won fame in the e'dg\"), (29, b'So daring and sweet his thoughtg'), (37, b'He, too, has been changed in hi: ?:S.d')]\n",
      "Result : [(4, b'I have passed with a nod of the hC.E'), (37, b'He, too, has been changed in his R:S.d')]\n",
      "Result : [(4, b'I have passed with a nod of the head'), (37, b'He, too, has been changed in his tur.d')]\n",
      "Result : [(0, b'I have met them at close of day'), (1, b'Coming with vivid faces'), (2, b'From counter or desk among grey'), (3, b'Eighteenth-century houses.'), (4, b'I have passed with a nod of the head'), (5, b'Or polite meaningless words,'), (6, b'Or have lingered awhile and said'), (7, b'Polite meaningless words,'), (8, b'And thought before I had done'), (9, b'Of a mocking tale or a gibe'), (10, b'To please a companion'), (11, b'Around the fire at the club,'), (12, b'Being certain that they and I'), (13, b'But lived where motley is worn:'), (14, b'All changed, changed utterly:'), (15, b'A terrible beauty is born.'), (16, b\"That woman's days were spent\"), (17, b'In ignorant good will,'), (18, b'Her nights in argument'), (19, b'Until her voice grew shrill.'), (20, b'What voice more sweet than hers'), (21, b'When young and beautiful,'), (22, b'She rode to harriers?'), (23, b'This man had kept a school'), (24, b'And rode our winged horse.'), (25, b'This other his helper and friend'), (26, b'Was coming into his force;'), (27, b'He might have won fame in the end,'), (28, b'So sensitive his nature seemed,'), (29, b'So daring and sweet his thought.'), (30, b'This other man I had dreamed'), (31, b'A drunken, vain-glorious lout.'), (32, b'He had done most bitter wrong'), (33, b'To some who are near my heart,'), (34, b'Yet I number him in the song;'), (35, b'He, too, has resigned his part'), (36, b'In the casual comedy;'), (37, b'He, too, has been changed in his turn\\n'), (38, b'Transformed utterly:'), (39, b'A terrible beauty is born.')]\n"
     ]
    }
   ],
   "source": [
    "# By hand, we can find a few cleartexts and deduce the final key\n",
    "cleartexts = {0:b'I have met them at close of day'}\n",
    "finalkey = xor(cleartexts[0], ciphers[0], 'bytes')\n",
    "finalkey += scored_keys[0][1][len(finalkey):]\n",
    "\n",
    "# Iterate by finding some cleartexts by hand\n",
    "print('Result :', [(idx,xor(finalkey, c, 'bytes')) for idx,c in enumerate(ciphers) if len(c)>len(cleartexts[0])])\n",
    "\n",
    "cleartexts[27] = b'He might have won fame in the end\\n'\n",
    "finalkey = xor(cleartexts[27], ciphers[27], 'bytes')\n",
    "finalkey += scored_keys[27][1][len(finalkey):]\n",
    "\n",
    "# Iterate by finding some cleartexts by hand\n",
    "print('Result :', [(idx,xor(finalkey, c, 'bytes')) for idx,c in enumerate(ciphers) if len(c)>len(cleartexts[27])])\n",
    "\n",
    "cleartexts[4] = b'I have passed with a nod of the head'\n",
    "finalkey = xor(cleartexts[4], ciphers[4], 'bytes')\n",
    "finalkey += scored_keys[4][1][len(finalkey):]\n",
    "\n",
    "# Iterate by finding some cleartexts by hand\n",
    "print('Result :', [(idx,xor(finalkey, c, 'bytes')) for idx,c in enumerate(ciphers) if len(c)>len(cleartexts[4])-2])\n",
    "\n",
    "cleartexts[37] = b'He, too, has been changed in his turn\\n'\n",
    "finalkey = xor(cleartexts[37], ciphers[37], 'bytes')\n",
    "finalkey += scored_keys[37][1][len(finalkey):]\n",
    "\n",
    "# Final cleartexts :\n",
    "print('Result :', [(idx,xor(finalkey, c, 'bytes')) for idx,c in enumerate(ciphers)])"
   ]
  },
  {
   "cell_type": "markdown",
   "metadata": {},
   "source": [
    "### Exercice 20\n",
    "\n",
    "Same weakness - but with repeating XOR cracking method"
   ]
  },
  {
   "cell_type": "code",
   "execution_count": 79,
   "metadata": {
    "collapsed": true
   },
   "outputs": [],
   "source": [
    "key = b'^!1w \\x8e$\\xe0,M\\x01-\\xe0\\xe5(\\xa1'\n",
    "with open('20.txt') as f:\n",
    "    ciphers = [to_bytes(l, 'base64') for l in f.readlines()]\n",
    "ciphers = [encrypt_aes_ctr(key, to_bytes(c, 'base64')) for c in ciphers]    "
   ]
  },
  {
   "cell_type": "code",
   "execution_count": 110,
   "metadata": {},
   "outputs": [
    {
     "data": {
      "text/plain": [
       "{'cleartext': 'N\\'m rated \"R\"...this is a warning, ya better void / PDuz I came back to attack others in spite- / Strike lEut don\\'t be afraid in the dark, in a park / Not a sc^a tremble like a alcoholic, muscles tighten up / WhaTuddenly you feel like your in a horror flick / You gJusic\\'s the clue, when I come your warned / ApocalypsOaven\\'t you ever heard of a MC-murderer? / This is thCeath wish, so come on, step to this / Hysterical ideAriday the thirteenth, walking down Elm Street / You Shis is off limits, so your visions are blurry / All Serror in the styles, never error-files / Indeed I\\'m Aor those that oppose to be level or next to this / IPorse than a nightmare, you don\\'t have to sleep a winAlashbacks interfere, ya start to hear: / The R-A-K-IShen the beat is hysterical / That makes Eric go get Toon the lyrical format is superior / Faces of death JC\\'s decaying, cuz they never stayed / The scene of aShe fiend of a rhyme on the mic that you know / It\\'s Jelodies-unmakable, pattern-unescapable / A horn if wN bless the child, the earth, the gods and bomb the rOazardous to your health so be friendly / A matter ofThake \\'till your clear, make it disappear, make the nNf not, my soul\\'ll release! / The scene is recreated,Duz your about to see a disastrous sight / A performaKyrics of fury! A fearified freestyle! / The \"R\" is iJake sure the system\\'s loud when I mention / Phrases ^ou want to hear some sounds that not only pounds butShen nonchalantly tell you what it mean to me / StricFnd I don\\'t care if the whole crowd\\'s a witness! / I\\'Wrogram into the speed of the rhyme, prepare to startJusical madness MC ever made, see it\\'s / Now an emergHpen your mind, you will find every word\\'ll be / FuriEattle\\'s tempting...whatever suits ya! / For words th^ou think you\\'re ruffer, then suffer the consequencesN wake ya with hundreds of thousands of volts / Mic-tIovocain ease the pain it might save him / If not, Er^o Rakim, what\\'s up? / Yo, I\\'m doing the knowledge, EPell, check this out, since Norby Walters is our agenLara Lewis is our agent, word up / Zakia and 4th and Hkay, so who we rollin\\' with then? We rollin\\' with RuDheck this out, since we talking over / This def beatN wanna hear some of them def rhymes, you know what IShinkin\\' of a master plan / \\'Cuz ain\\'t nuthin\\' but swTo I dig into my pocket, all my money is spent / So ITo I start my mission, leave my residence / Thinkin\\' N need money, I used to be a stick-up kid / So I thinN used to roll up, this is a hold up, ain\\'t nuthin\\' fEut now I learned to earn \\'cuz I\\'m righteous / I feelTearch for a nine to five, if I strive / Then maybe ITo I walk up the street whistlin\\' this / Feelin\\' out F pen and a paper, a stereo, a tape of / Me and Eric Aish, which is my favorite dish / But without no mone Cuz I don\\'t like to dream about gettin\\' paid / So I To now to test to see if I got pull / Hit the studio,Uakim, check this out, yo / You go to your girl house Cause my girl is definitely mad / \\'Cause it took us ^o, I hear what you\\'re saying / So let\\'s just pump thFnd count our money / Yo, well check this out, yo EliSurn down the bass down / And let the beat just keep Fnd we outta here / Yo, what happened to peace? / Pea',\n",
       " 'confidence': 1.521739937106918,\n",
       " 'key': b'\\xd1\\xdc\\xd5j:\\x16_\\x1c\\xe5\\xb9\\xa4@|\\x08\\x9bT\\x86\\xf4\\xfci\\x90o\\xef\\xffB\\x88L\\x14\\x1813\\xbb\\xb4a\\x15\\x9c\\xd7\\xef\\xb6\\xebL\\x83\\xf6\\xc9\\xf3\\xe5P\\xdd\\x85s\\xea\\x97\\x8e'}"
      ]
     },
     "execution_count": 110,
     "metadata": {},
     "output_type": "execute_result"
    }
   ],
   "source": [
    "# Repeating XOR attack on same prefix length\n",
    "\n",
    "l = min(len(c) for c in ciphers)\n",
    "crack_repeating_xor(text=b''.join(c[:l] for c in ciphers), keysize=l)\n",
    "\n",
    "# The result is pretty good. We are not going to push it, its the same as above after that."
   ]
  },
  {
   "cell_type": "markdown",
   "metadata": {},
   "source": [
    "### Exercice 21\n",
    "\n",
    "Mersenne twister - reimplemented based on the wikipedia article"
   ]
  },
  {
   "cell_type": "code",
   "execution_count": 249,
   "metadata": {},
   "outputs": [],
   "source": [
    "# --base class in Crypto 102--            "
   ]
  },
  {
   "cell_type": "code",
   "execution_count": 250,
   "metadata": {},
   "outputs": [],
   "source": [
    "def _int32(x):\n",
    "    # Get the 32 least significant bits.\n",
    "    return int(0xFFFFFFFF & x)\n",
    "\n",
    "class MT19937:\n",
    "\n",
    "    def __init__(self, seed):\n",
    "        # Initialize the index to 0\n",
    "        self.index = 624\n",
    "        self.mt = [0] * 624\n",
    "        self.mt[0] = seed  # Initialize the initial state to the seed\n",
    "        for i in range(1, 624):\n",
    "            self.mt[i] = _int32(\n",
    "                1812433253 * (self.mt[i - 1] ^ self.mt[i - 1] >> 30) + i)\n",
    "\n",
    "    def extract_number(self):\n",
    "        if self.index >= 624:\n",
    "            self.twist()\n",
    "\n",
    "        y = self.mt[self.index]\n",
    "\n",
    "        # Right shift by 11 bits\n",
    "        y = y ^ y >> 11\n",
    "        # Shift y left by 7 and take the bitwise and of 2636928640\n",
    "        y = y ^ y << 7 & 2636928640\n",
    "        # Shift y left by 15 and take the bitwise and of y and 4022730752\n",
    "        y = y ^ y << 15 & 4022730752\n",
    "        # Right shift by 18 bits\n",
    "        y = y ^ y >> 18\n",
    "\n",
    "        self.index = self.index + 1\n",
    "\n",
    "        return _int32(y)\n",
    "\n",
    "    def twist(self):\n",
    "        for i in range(624):\n",
    "            # Get the most significant bit and add it to the less significant\n",
    "            # bits of the next number\n",
    "            y = _int32((self.mt[i] & 0x80000000) +\n",
    "                       (self.mt[(i + 1) % 624] & 0x7fffffff))\n",
    "            self.mt[i] = self.mt[(i + 397) % 624] ^ y >> 1\n",
    "\n",
    "            if y % 2 != 0:\n",
    "                self.mt[i] = self.mt[i] ^ 0x9908b0df\n",
    "        self.index = 0\n",
    "        #test"
   ]
  },
  {
   "cell_type": "code",
   "execution_count": 251,
   "metadata": {},
   "outputs": [],
   "source": [
    "# Test using Wikipedia implementation as reference\n",
    "import os\n",
    "i = ord(os.urandom(1))\n",
    "m1 = Mersenne19937(i)\n",
    "m2 = MT19937(i)\n",
    "for i in range(100):\n",
    "    assert m1.generate() == m2.extract_number()"
   ]
  },
  {
   "cell_type": "markdown",
   "metadata": {},
   "source": [
    "### Exercice 22"
   ]
  },
  {
   "cell_type": "code",
   "execution_count": 15,
   "metadata": {},
   "outputs": [
    {
     "name": "stdout",
     "output_type": "stream",
     "text": [
      "Seed : 1492444743\n"
     ]
    }
   ],
   "source": [
    "import random, time\n",
    "\n",
    "# Routine - with a max time of 100s because, you know. Time.\n",
    "def routine():\n",
    "    time.sleep(random.randint(40, 100))\n",
    "    seed = int(time.time())\n",
    "    print('Seed :', seed)\n",
    "    rng = Mersenne19937(seed)\n",
    "    time.sleep(random.randint(1, 30))\n",
    "    return rng.generate()\n",
    "\n",
    "output = routine()"
   ]
  },
  {
   "cell_type": "code",
   "execution_count": 16,
   "metadata": {},
   "outputs": [
    {
     "name": "stdout",
     "output_type": "stream",
     "text": [
      "Seed was 1492444743\n"
     ]
    }
   ],
   "source": [
    "# One coffee later...\n",
    "# Just bruteforce the seed. We now when it happened approximately, just test every possibility.\n",
    "base = int(time.time())\n",
    "for i in range(100000):\n",
    "    seed = base -  i\n",
    "    rng = Mersenne19937(seed)\n",
    "    if rng.generate() == output:\n",
    "        print('Seed was %s' % seed)\n",
    "        break"
   ]
  },
  {
   "cell_type": "markdown",
   "metadata": {},
   "source": [
    "### Exercice 23\n",
    "The main exercice here is to reverse the tempering function of the Mersenne Twister. If a hash was applied to the output of the RNG, this would make it impossible to find the original state value, but it may also mess with the randomness and output distribution properties of the generator. Depends on the hash I guess."
   ]
  },
  {
   "cell_type": "code",
   "execution_count": 321,
   "metadata": {},
   "outputs": [],
   "source": [
    "# Demo of the tools that are defined in Crypto 102\n",
    "m = Mersenne19937(153)\n",
    "c = clone_rng(m)\n",
    "for i in range(1000):\n",
    "    assert c.generate() == m.generate()\n",
    "    # Boom ! We got ourselves a clone !"
   ]
  },
  {
   "cell_type": "markdown",
   "metadata": {},
   "source": [
    "### Exercice 24\n",
    "Generate a Cipher stream based on the MT19937. Then crack it with the tools we just built."
   ]
  },
  {
   "cell_type": "code",
   "execution_count": 8,
   "metadata": {},
   "outputs": [],
   "source": [
    "# See Crypto 103."
   ]
  },
  {
   "cell_type": "code",
   "execution_count": 49,
   "metadata": {},
   "outputs": [
    {
     "name": "stdout",
     "output_type": "stream",
     "text": [
      "Key : 0025\n"
     ]
    }
   ],
   "source": [
    "import os\n",
    "\n",
    "def cipher_generator(cleartext):\n",
    "    key = b'\\x00'  + os.urandom(1) # To avoid long bruteforce times, make it a small key\n",
    "    print('Key :', bytes_to(key, 'hex'))\n",
    "    prefix = os.urandom(random.randint(5,100))\n",
    "    return encrypt_mt19937_ctr(key=key, cleartext=prefix + cleartext)\n",
    "\n",
    "controlled_cipher = cipher_generator(b'A'*14)"
   ]
  },
  {
   "cell_type": "code",
   "execution_count": 53,
   "metadata": {},
   "outputs": [
    {
     "name": "stderr",
     "output_type": "stream",
     "text": [
      "\n",
      "  0%|          | 0/65536 [00:00<?, ?it/s]\u001b[A\n",
      "  0%|          | 2/65536 [00:00<1:07:25, 16.20it/s]\u001b[A\n",
      "  0%|          | 4/65536 [00:00<1:08:59, 15.83it/s]\u001b[A\n",
      "  0%|          | 6/65536 [00:00<1:09:17, 15.76it/s]\u001b[A\n",
      "  0%|          | 8/65536 [00:00<1:09:38, 15.68it/s]\u001b[A\n",
      "  0%|          | 10/65536 [00:00<1:09:51, 15.63it/s]\u001b[A\n",
      "  0%|          | 12/65536 [00:00<1:09:57, 15.61it/s]\u001b[A\n",
      "  0%|          | 14/65536 [00:00<1:09:53, 15.63it/s]\u001b[A\n",
      "  0%|          | 16/65536 [00:01<1:10:05, 15.58it/s]\u001b[A\n",
      "  0%|          | 18/65536 [00:01<1:10:15, 15.54it/s]\u001b[A\n",
      "  0%|          | 20/65536 [00:01<1:10:12, 15.55it/s]\u001b[A\n",
      "  0%|          | 22/65536 [00:01<1:10:07, 15.57it/s]\u001b[A\n",
      "  0%|          | 24/65536 [00:01<1:10:21, 15.52it/s]\u001b[A\n",
      "  0%|          | 26/65536 [00:01<1:10:25, 15.50it/s]\u001b[A\n",
      "  0%|          | 28/65536 [00:01<1:10:31, 15.48it/s]\u001b[A\n",
      "  0%|          | 30/65536 [00:01<1:10:36, 15.46it/s]\u001b[A\n",
      "\n",
      "  0%|          | 36/65536 [00:02<1:09:57, 15.61it/s]"
     ]
    },
    {
     "name": "stdout",
     "output_type": "stream",
     "text": [
      "Found the key : 0025\n"
     ]
    },
    {
     "name": "stderr",
     "output_type": "stream",
     "text": [
      "\r",
      "          \r",
      "  0%|          | 36/65536 [00:22<11:09:31,  1.63it/s]"
     ]
    }
   ],
   "source": [
    "# 16 bit random key ! Bruteforce.\n",
    "# To check the result, just generate enough numbers and check if we find our A's.\n",
    "# Then we got our seed.\n",
    "import tqdm\n",
    "random_prefix = b'C' * (len(controlled_cipher)-14) # Just a filler string\n",
    "controlled_suffix = b'A' * 14 # The actual string we are looking for\n",
    "for i in tqdm.tqdm(range(0x10000)):\n",
    "    mt = Mersenne19937(i)\n",
    "    gnumbers = [mt.generate() for _ in range(len(controlled_cipher))]\n",
    "    gbytes = map(lambda x: [0xFF & x,\n",
    "                            0xFF & (x >> 8),\n",
    "                            0xFF & (x >> 16),\n",
    "                            0xFF & (x >> 24)], gnumbers)\n",
    "    finalbytes = bytes(sum(gbytes, []))\n",
    "    key = bytes([i & 0xFF00, i & 0xFF])\n",
    "    check = encrypt_mt19937_ctr(key=key, cleartext=random_prefix + controlled_suffix)\n",
    "    if check[-14:] == controlled_cipher[-14:]:\n",
    "        print('Found the key :', bytes_to(key, 'hex'))\n",
    "        break"
   ]
  },
  {
   "cell_type": "code",
   "execution_count": 104,
   "metadata": {},
   "outputs": [],
   "source": [
    "# Generate \"random\" password reset token\n",
    "import time\n",
    "def get_reset_token():\n",
    "    t = int(time.time())\n",
    "    print('Generating token on', t)\n",
    "    mt = Mersenne19937(t)\n",
    "    return hex(mt.generate())[2:]"
   ]
  },
  {
   "cell_type": "code",
   "execution_count": 105,
   "metadata": {},
   "outputs": [
    {
     "name": "stdout",
     "output_type": "stream",
     "text": [
      "Generating token on 1492447940\n"
     ]
    },
    {
     "data": {
      "text/plain": [
       "'dfef344b'"
      ]
     },
     "execution_count": 105,
     "metadata": {},
     "output_type": "execute_result"
    }
   ],
   "source": [
    "get_reset_token()"
   ]
  },
  {
   "cell_type": "code",
   "execution_count": 106,
   "metadata": {},
   "outputs": [],
   "source": [
    "def check_current_time_token(token):\n",
    "    # Get current time and check about 60s into the past\n",
    "    t = int(time.time())\n",
    "    for i in range(60):\n",
    "        mt = Mersenne19937(t - i)\n",
    "        check = hex(mt.generate())[2:]\n",
    "        if check == token:\n",
    "            print('Token was generated on time', t - i)\n",
    "            return t - i"
   ]
  },
  {
   "cell_type": "code",
   "execution_count": 107,
   "metadata": {},
   "outputs": [
    {
     "name": "stdout",
     "output_type": "stream",
     "text": [
      "Generating token on 1492447975\n",
      "Token was generated on time 1492447975\n",
      "Generating token on 1492447977\n",
      "Token was generated on time 1492447977\n",
      "Generating token on 1492447978\n",
      "Token was generated on time 1492447978\n"
     ]
    },
    {
     "data": {
      "text/plain": [
       "1492447978"
      ]
     },
     "execution_count": 107,
     "metadata": {},
     "output_type": "execute_result"
    }
   ],
   "source": [
    "time.sleep(5)\n",
    "check_current_time_token(get_reset_token())\n",
    "time.sleep(2)\n",
    "check_current_time_token(get_reset_token())\n",
    "time.sleep(1)\n",
    "check_current_time_token(get_reset_token())"
   ]
  }
 ],
 "metadata": {
  "kernelspec": {
   "display_name": "Python 3",
   "language": "python",
   "name": "python3"
  },
  "language_info": {
   "codemirror_mode": {
    "name": "ipython",
    "version": 3
   },
   "file_extension": ".py",
   "mimetype": "text/x-python",
   "name": "python",
   "nbconvert_exporter": "python",
   "pygments_lexer": "ipython3",
   "version": "3.6.1"
  }
 },
 "nbformat": 4,
 "nbformat_minor": 1
}
