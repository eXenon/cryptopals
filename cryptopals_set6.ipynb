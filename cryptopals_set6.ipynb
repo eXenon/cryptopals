{
 "cells": [
  {
   "cell_type": "markdown",
   "metadata": {},
   "source": [
    "# Generic"
   ]
  },
  {
   "cell_type": "code",
   "execution_count": 1,
   "metadata": {
    "collapsed": true
   },
   "outputs": [],
   "source": [
    "import hashlib, base64\n",
    "def sha256(msg):\n",
    "    hasher = hashlib.sha256()\n",
    "    hasher.update(msg.encode())\n",
    "    return hasher.hexdigest()\n",
    "def sha1(msg):\n",
    "    hasher = hashlib.sha1()\n",
    "    hasher.update(msg.encode())\n",
    "    return hasher.hexdigest()\n",
    "def bytes_to_int(b):\n",
    "    return int.from_bytes(b, 'big')\n",
    "def int_to_bytes(i):\n",
    "    s = hex(i)[2:].upper()\n",
    "    if len(s) % 2 == 1:\n",
    "        s = '0' + s\n",
    "    return base64.b16decode(s)"
   ]
  },
  {
   "cell_type": "markdown",
   "metadata": {},
   "source": [
    "# Crypto"
   ]
  },
  {
   "cell_type": "code",
   "execution_count": 2,
   "metadata": {
    "collapsed": true
   },
   "outputs": [],
   "source": [
    "# First, get some primitives down :\n",
    "\n",
    "import gensafeprime\n",
    "\n",
    "def primegen(small=True, big=False):\n",
    "    \"\"\"Generate a random prime.\"\"\"\n",
    "    if small:\n",
    "        return gensafeprime.generate(32)\n",
    "    if big:\n",
    "        return gensafeprime.generate(1024)\n",
    "    return gensafeprime.generate(128)\n",
    "\n",
    "def egcd(r, u, v, rp, up, vp):\n",
    "    \"\"\"Extended Euclid algorithm for GCD\n",
    "    Given a, b, find GCD(a,b) and x,y such that :\n",
    "        a.x b+ b.y = GCD(a,b)     (Bézout coefficients)\n",
    "    \"\"\"\n",
    "    if r == 0:\n",
    "        return up, vp\n",
    "    else:\n",
    "        return egcd(rp - (rp // r)*r, up - (rp // r)*u, vp - (rp // r)*v, r, u, v)\n",
    "    \n",
    "    \n",
    "def invmod(a, N):\n",
    "    \"\"\"Calculate the inverse modulo\"\"\"\n",
    "    x, _ = egcd(a, 1, 0, N, 0, 1)\n",
    "    return x % N\n",
    "\n",
    "assert (invmod(15, 37) * 15) % 37 == 1"
   ]
  },
  {
   "cell_type": "code",
   "execution_count": 3,
   "metadata": {
    "collapsed": false
   },
   "outputs": [
    {
     "name": "stdout",
     "output_type": "stream",
     "text": [
      "Unsafe encryption.\n"
     ]
    }
   ],
   "source": [
    "import base64\n",
    "\n",
    "def str_to_int(s):\n",
    "    return int(base64.b16encode(s), 16)\n",
    "def int_to_str(i):\n",
    "    s = hex(i)[2:].upper()\n",
    "    if len(s) % 2 == 1:\n",
    "        s = '0' + s # base16 wants even length strings, adding a 0 in front does not change the value. Perfect.\n",
    "    return base64.b16decode(s)\n",
    "assert int_to_str(str_to_int((b\"Hello, world !\"))) == b'Hello, world !'\n",
    "\n",
    "class RSA:\n",
    "    def __init__(self, small=True, big=False, block_length=None):\n",
    "        self.p = primegen(small=small, big=big)\n",
    "        self.q = primegen(small=small, big=big)\n",
    "        self.n = self.p * self.q\n",
    "        self.et = (self.p - 1) * (self.q - 1)\n",
    "        self.e = 3\n",
    "        self.d = invmod(self.e, self.et)\n",
    "        if block_length is None:\n",
    "            self.block_length = 3 + (not small)*9\n",
    "        else:\n",
    "            self.block_length = block_length\n",
    "    \n",
    "    @property\n",
    "    def public(self):\n",
    "        return self.e, self.n\n",
    "    \n",
    "    @property\n",
    "    def private(self):\n",
    "        return self.d, self.n\n",
    "    \n",
    "    def encrypt_block(self, s, i2s = True):\n",
    "        # Encrypt one block\n",
    "        if isinstance(s, bytes):\n",
    "            m = str_to_int(s)\n",
    "            if m ** 3 < self.n:\n",
    "                print('Unsafe encryption.') # If the cubed message does not wrap around, it's not much use...\n",
    "            if m > self.n:\n",
    "                raise Exception(\"Message not encryptable. Please use blocks.\")\n",
    "            if i2s:\n",
    "                return int_to_str(pow(m, self.e, self.n))\n",
    "            else:\n",
    "                return pow(m, self.e, self.n)\n",
    "        else:\n",
    "            m = s\n",
    "            return pow(m, self.e, self.n)\n",
    "    \n",
    "    def decrypt_block(self, s, i2s = True):\n",
    "        if isinstance(s, bytes):\n",
    "            c = str_to_int(s)\n",
    "            if c > self.n:\n",
    "                raise Exception(\"Message not encryptable. Please use blocks.\")\n",
    "            if i2s:\n",
    "                return int_to_str(pow(c, self.d, self.n))\n",
    "            else:\n",
    "                return pow(c, self.d, self.n)\n",
    "        else:\n",
    "            c = s\n",
    "            return pow(c, self.d, self.n)\n",
    "    \n",
    "    def encrypt(self, s):\n",
    "        acc = []\n",
    "        for i in range(0, len(s), self.block_length):\n",
    "            acc.append(self.encrypt_block(s[i:i+self.block_length]))\n",
    "        return acc\n",
    "        \n",
    "    \n",
    "    def decrypt(self, s):\n",
    "        return b\"\".join(self.decrypt_block(b) for b in s)\n",
    "        \n",
    "    \n",
    "r = RSA(small=False)\n",
    "assert r.decrypt(r.encrypt(b\"Vanilla Ice Baby\")) == b'Vanilla Ice Baby'"
   ]
  },
  {
   "cell_type": "markdown",
   "metadata": {},
   "source": [
    "# Cryptopals Notebook\n",
    "\n",
    "## Set 6\n",
    "\n",
    "### Exercice 41\n",
    "\n",
    "Implement unpadded message recovery oracle"
   ]
  },
  {
   "cell_type": "code",
   "execution_count": 4,
   "metadata": {
    "collapsed": false
   },
   "outputs": [],
   "source": [
    "# Setting up legitimate side of things\n",
    "class Server:\n",
    "    def __init__(self):\n",
    "        self.rsa = RSA(small=False)\n",
    "        self.memory = set()\n",
    "    \n",
    "    def encrypt(self, s):\n",
    "        return self.rsa.encrypt(s)\n",
    "    \n",
    "    def decrypt(self, s):\n",
    "        if b\"\".join(s) in self.memory:\n",
    "            raise Exception(\"Message already decrypted\") # Why bother with hashes\n",
    "        else:\n",
    "            self.memory.add(b\"\".join(s))\n",
    "            return self.rsa.decrypt(s)\n",
    "\n",
    "# Alice is the server\n",
    "alice = Server()\n",
    "\n",
    "# Bob is the JS client\n",
    "original_message = b'{ \"time\": 62365314455, \"social\": \"555-555-555\" }'\n",
    "bob = {'message': alice.encrypt(original_message) }\n",
    "\n",
    "# Bob asks for the decrypted message\n",
    "bob['clear'] = alice.decrypt(bob['message'])\n",
    "assert bob['clear'] == original_message"
   ]
  },
  {
   "cell_type": "code",
   "execution_count": 5,
   "metadata": {
    "collapsed": false
   },
   "outputs": [],
   "source": [
    "# Eve gets a hold of the ciphertext !\n",
    "eve = {'message': bob['message']}\n",
    "\n",
    "# Ensure that the server won't decrypt it again...\n",
    "try:\n",
    "    alice.decrypt(eve['message'])\n",
    "    assert False\n",
    "except:\n",
    "    assert True\n",
    "    \n",
    "# Now modify message so that is different but still the same.\n",
    "(e, n), s = alice.rsa.public, 4 # Totally random, I swear.\n",
    "c = [str_to_int(block) for block in eve['message']] # Go back to ints for math\n",
    "cp = [(pow(s, e, n) * block) % n for block in c]\n",
    "assert c != cp\n",
    "new_message = alice.decrypt([int_to_str(block) for block in cp])\n",
    "assert new_message != original_message # We got a jumbled mess here"
   ]
  },
  {
   "cell_type": "code",
   "execution_count": 6,
   "metadata": {
    "collapsed": false
   },
   "outputs": [],
   "source": [
    "# Now Eve will want to recover original_message from new_message :\n",
    "blocks = [str_to_int(new_message[i:i+12]) for i in range(0, len(new_message), 12)]\n",
    "new_blocks = [(block * invmod(s, n)) % n for block in blocks]\n",
    "decrypted_message = b\"\".join(int_to_str(block) for block in new_blocks)\n",
    "\n",
    "# This is due to the fact that we add 0's to ensure int_to_str. Not that important.\n",
    "# We could just make a smarter way to convert str to ints. Meh.\n",
    "decrypted_message = b\"\".join(bytes([b]) for b in decrypted_message if b != 0)\n",
    "assert decrypted_message == original_message"
   ]
  },
  {
   "cell_type": "markdown",
   "metadata": {},
   "source": [
    "### Exercice 42\n",
    "\n",
    "Bleichenbacher's e=3 RSA Attack."
   ]
  },
  {
   "cell_type": "code",
   "execution_count": 7,
   "metadata": {
    "collapsed": false
   },
   "outputs": [],
   "source": [
    "sender = RSA(small=False, big=True)"
   ]
  },
  {
   "cell_type": "code",
   "execution_count": 8,
   "metadata": {
    "collapsed": false
   },
   "outputs": [],
   "source": [
    "def sign(sender, text):\n",
    "    \"\"\"Simple implementation of RSA signing\"\"\"\n",
    "    d, n = sender.private\n",
    "    _hash = base64.b16decode(sha1(text).upper())\n",
    "    asn1 = b'\\x30\\x21\\x30\\x09\\x06\\x05\\x2b\\x0e\\x03\\x02\\x1a\\x05\\x00\\x04\\x14' # ASN.1 encoding for SHA1\n",
    "    block = b'\\x00\\x01' + b'\\xff' * (128 - len(_hash) - len(asn1) - 3) + b'\\x00' + asn1 + _hash # Pad out to 128 bytes\n",
    "    assert len(block) == 128 # 1024 bit blocks\n",
    "    return pow(bytes_to_int(block), d, n)\n",
    "\n",
    "def check_signature(sender, text, signature):\n",
    "    \"\"\"Flawed implementation of RSA signature verification\"\"\"\n",
    "    e, n = sender.public\n",
    "    _hash = base64.b16decode(sha1(text).upper())\n",
    "    asn1 = b'\\x30\\x21\\x30\\x09\\x06\\x05\\x2b\\x0e\\x03\\x02\\x1a\\x05\\x00\\x04\\x14' # ASN.1 encoding for SHA1\n",
    "    clearint = pow(signature, e, n)\n",
    "    clearblock = b'\\x00' + int_to_bytes(clearint) # Initial null byte is lost during integer conversion\n",
    "    if not (clearblock[0:3] == b'\\x00\\x01\\xff'):\n",
    "        print('Starting bytes not ok')\n",
    "        return False # Check only the \"important\" bytes\n",
    "    clearblock = clearblock[3:]\n",
    "    while clearblock[0] == 255:\n",
    "        clearblock = clearblock[1:] # Consume 0xFF bytes\n",
    "    return clearblock.startswith(b'\\x00' + asn1 + _hash) # Check important bytes\n",
    "    # So we did NOT check that the padding was the entire length\n",
    "    # and we did NOT check the remaining block was equal to the ans1 + hash part.\n",
    "    \n",
    "# Check base case\n",
    "assert check_signature(sender, \"Hello, world !\", sign(sender, \"Hello, world !\"))"
   ]
  },
  {
   "cell_type": "markdown",
   "metadata": {
    "collapsed": true
   },
   "source": [
    "This is all inspired from this submission : https://www.ietf.org/mail-archive/web/openpgp/current/msg00999.html\n",
    "\n",
    "Let's define D and N :\n",
    "$$\\begin{align*}\n",
    "D\n",
    "&= 0x00\\ ASN.1\\ HASH \\\\\n",
    "&= 2^{288} - N\n",
    "\\end{align*}$$\n",
    "\n",
    "And now build the signature, using the least amount of padding possible (to have the largest possible margin) :\n",
    "$$\\begin{align*}\n",
    "signature\n",
    "&= 0x00\\ 0x01\\ 0xFF\\ 0x00\\ ASN.1\\ HASH\\ GARBAGE\\ (1024\\ bit\\ key)\\\\\n",
    "&= 2^{1009} - 2^{1000} + D.2^{712} + garbage\\\\\n",
    "&= 2^{1009} - 2^{1000} + 2^{1000} - N.2^{712} + garbage\\\\\n",
    "&= 2^{1009} - N.2^{712} + garbage\\\\\n",
    "\\end{align*}$$\n",
    "\n",
    "Sadly, given that 2^1009 is not a perfect cube, we cannot make a nice formula like in the Hal Finney writeup. We still have a good base. Let's crunch some numbers to find a perfect cube that would fit our description. WolframAlpha reveals that the cube root of our baseline (2^1009 - N\\*2^712) is around 1.7\\*10^101. Let's use that as a starting value (note: we could have found this value by using the same binary search used to find the perfect root)."
   ]
  },
  {
   "cell_type": "code",
   "execution_count": 9,
   "metadata": {
    "collapsed": false
   },
   "outputs": [],
   "source": [
    "# Now, we want to forge a signature\n",
    "e, n = sender.public\n",
    "_hash = base64.b16decode(sha1('Hello, world !').upper())\n",
    "asn1 = b'\\x30\\x21\\x30\\x09\\x06\\x05\\x2b\\x0e\\x03\\x02\\x1a\\x05\\x00\\x04\\x14' # ASN.1 encoding for SHA1\n",
    "D = bytes_to_int(b'\\x00' + asn1 + _hash)\n",
    "N = 2**288 - D\n",
    "target = 2**1009 - N * (2**712)\n",
    "base = 176254032823638680266052181223788664320230109282117832543013801901130780612858290399771331518246797307"
   ]
  },
  {
   "cell_type": "code",
   "execution_count": 10,
   "metadata": {
    "collapsed": false
   },
   "outputs": [
    {
     "name": "stdout",
     "output_type": "stream",
     "text": [
      "Found a good root. (root^3 - target) is 16127599852352072733114186255968266580760613075092633068618640212423478497054982267802592076314564076913940744080994100546246971644854173908828995096951797527509070032754050928806580131027491716868344335397286586176 and (2^712 - (root^3 - target)) is 5417916800390065152544908304308740433333578757271087059886318366546048406945860779574986056278438219311781496353911879206280622851898686714542534203638306433907526124188058145386474621266694133074872823712473929920\n"
     ]
    }
   ],
   "source": [
    "# We need a perfect cube that is slightly larger than our target (less than 2^712 difference, should be doable)\n",
    "def is_good_root(n):\n",
    "    if (n**3 - target) < 0:\n",
    "        return -1 # Too small\n",
    "    if (n**3 - target) > 2**712:\n",
    "        return 1  # Too big\n",
    "    return 0 # Perfect.\n",
    "\n",
    "low = base\n",
    "high = base*2\n",
    "mid = (high - low) // 2 + low\n",
    "is_ok = is_good_root(mid)\n",
    "while is_ok != 0:\n",
    "    if is_ok < 0:\n",
    "        low = mid\n",
    "    elif is_ok > 0:\n",
    "        high = mid\n",
    "    mid = (high - low) // 2 + low\n",
    "    is_ok = is_good_root(mid)\n",
    "root = mid\n",
    "    \n",
    "print('Found a good root. (root^3 - target) is %s and (2^712 - (root^3 - target)) is %s' % (mid**3 - target, 2**712 - (mid**3 - target)))"
   ]
  },
  {
   "cell_type": "code",
   "execution_count": 11,
   "metadata": {
    "collapsed": false
   },
   "outputs": [],
   "source": [
    "# Now for the test !\n",
    "assert check_signature(sender, \"Hello, world !\", root)"
   ]
  },
  {
   "cell_type": "markdown",
   "metadata": {
    "collapsed": true
   },
   "source": [
    "### Exercice 43\n",
    "\n"
   ]
  },
  {
   "cell_type": "code",
   "execution_count": null,
   "metadata": {
    "collapsed": true
   },
   "outputs": [],
   "source": []
  }
 ],
 "metadata": {
  "kernelspec": {
   "display_name": "Python 3",
   "language": "python",
   "name": "python3"
  },
  "language_info": {
   "codemirror_mode": {
    "name": "ipython",
    "version": 3
   },
   "file_extension": ".py",
   "mimetype": "text/x-python",
   "name": "python",
   "nbconvert_exporter": "python",
   "pygments_lexer": "ipython3",
   "version": "3.6.3"
  }
 },
 "nbformat": 4,
 "nbformat_minor": 2
}
