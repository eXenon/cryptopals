{
 "cells": [
  {
   "cell_type": "markdown",
   "metadata": {},
   "source": [
    "# Generic"
   ]
  },
  {
   "cell_type": "code",
   "execution_count": 1,
   "metadata": {
    "collapsed": true
   },
   "outputs": [],
   "source": [
    "import hashlib, base64\n",
    "def sha256(msg):\n",
    "    hasher = hashlib.sha256()\n",
    "    hasher.update(msg.encode())\n",
    "    return hasher.hexdigest()\n",
    "def sha1(msg):\n",
    "    hasher = hashlib.sha1()\n",
    "    hasher.update(msg.encode())\n",
    "    return hasher.hexdigest()\n",
    "def sha1i(msg):\n",
    "    \"\"\"SHA1 but it returns an integer\"\"\"\n",
    "    return int(sha1(msg), 16)\n",
    "def bytes_to_int(b):\n",
    "    return int.from_bytes(b, 'big')\n",
    "def int_to_bytes(i):\n",
    "    s = hex(i)[2:].upper()\n",
    "    if len(s) % 2 == 1:\n",
    "        s = '0' + s\n",
    "    return base64.b16decode(s)"
   ]
  },
  {
   "cell_type": "markdown",
   "metadata": {},
   "source": [
    "# Crypto"
   ]
  },
  {
   "cell_type": "code",
   "execution_count": 2,
   "metadata": {
    "collapsed": true
   },
   "outputs": [],
   "source": [
    "# First, get some primitives down :\n",
    "\n",
    "import gensafeprime\n",
    "\n",
    "def primegen(small=True, big=False):\n",
    "    \"\"\"Generate a random prime.\"\"\"\n",
    "    if small:\n",
    "        return gensafeprime.generate(32)\n",
    "    if big:\n",
    "        return gensafeprime.generate(1024)\n",
    "    return gensafeprime.generate(128)\n",
    "\n",
    "def egcd(r, u, v, rp, up, vp):\n",
    "    \"\"\"Extended Euclid algorithm for GCD\n",
    "    Given a, b, find GCD(a,b) and x,y such that :\n",
    "        a.x b+ b.y = GCD(a,b)     (Bézout coefficients)\n",
    "    \"\"\"\n",
    "    if r == 0:\n",
    "        return up, vp\n",
    "    else:\n",
    "        return egcd(rp - (rp // r)*r, up - (rp // r)*u, vp - (rp // r)*v, r, u, v)\n",
    "    \n",
    "    \n",
    "def invmod(a, N):\n",
    "    \"\"\"Calculate the inverse modulo\"\"\"\n",
    "    x, _ = egcd(a, 1, 0, N, 0, 1)\n",
    "    return x % N\n",
    "\n",
    "assert (invmod(15, 37) * 15) % 37 == 1"
   ]
  },
  {
   "cell_type": "code",
   "execution_count": 3,
   "metadata": {
    "collapsed": false
   },
   "outputs": [
    {
     "name": "stdout",
     "output_type": "stream",
     "text": [
      "Unsafe encryption.\n"
     ]
    }
   ],
   "source": [
    "import base64\n",
    "\n",
    "def str_to_int(s):\n",
    "    return int(base64.b16encode(s), 16)\n",
    "def int_to_str(i):\n",
    "    s = hex(i)[2:].upper()\n",
    "    if len(s) % 2 == 1:\n",
    "        s = '0' + s # base16 wants even length strings, adding a 0 in front does not change the value. Perfect.\n",
    "    return base64.b16decode(s)\n",
    "assert int_to_str(str_to_int((b\"Hello, world !\"))) == b'Hello, world !'\n",
    "\n",
    "class RSA:\n",
    "    def __init__(self, small=True, big=False, block_length=None, p=None, q=None):\n",
    "        if p is None:\n",
    "            self.p = primegen(small=small, big=big)\n",
    "        else:\n",
    "            self.p = p\n",
    "        if q is None:\n",
    "            self.q = primegen(small=small, big=big)\n",
    "        else:\n",
    "            self.q = q\n",
    "        self.n = self.p * self.q\n",
    "        self.et = (self.p - 1) * (self.q - 1)\n",
    "        self.e = 3\n",
    "        self.d = invmod(self.e, self.et)\n",
    "        if block_length is None:\n",
    "            self.block_length = 3 + (not small)*9\n",
    "        else:\n",
    "            self.block_length = block_length\n",
    "    \n",
    "    @property\n",
    "    def public(self):\n",
    "        return self.e, self.n\n",
    "    \n",
    "    @property\n",
    "    def private(self):\n",
    "        return self.d, self.n\n",
    "    \n",
    "    def encrypt_block(self, s, i2s = True):\n",
    "        # Encrypt one block\n",
    "        if isinstance(s, bytes):\n",
    "            m = str_to_int(s)\n",
    "            if m ** 3 < self.n:\n",
    "                print('Unsafe encryption.') # If the cubed message does not wrap around, it's not much use...\n",
    "            if m > self.n:\n",
    "                raise Exception(\"Message not encryptable. Please use blocks.\")\n",
    "            if i2s:\n",
    "                return int_to_str(pow(m, self.e, self.n))\n",
    "            else:\n",
    "                return pow(m, self.e, self.n)\n",
    "        else:\n",
    "            m = s\n",
    "            return pow(m, self.e, self.n)\n",
    "    \n",
    "    def decrypt_block(self, s, i2s = True):\n",
    "        if isinstance(s, bytes):\n",
    "            c = str_to_int(s)\n",
    "            if c > self.n:\n",
    "                raise Exception(\"Message not encryptable. Please use blocks.\")\n",
    "            if i2s:\n",
    "                return int_to_str(pow(c, self.d, self.n))\n",
    "            else:\n",
    "                return pow(c, self.d, self.n)\n",
    "        else:\n",
    "            c = s\n",
    "            return pow(c, self.d, self.n)\n",
    "    \n",
    "    def encrypt(self, s):\n",
    "        acc = []\n",
    "        for i in range(0, len(s), self.block_length):\n",
    "            acc.append(self.encrypt_block(s[i:i+self.block_length]))\n",
    "        return acc\n",
    "        \n",
    "    \n",
    "    def decrypt(self, s):\n",
    "        return b\"\".join(self.decrypt_block(b) for b in s)\n",
    "        \n",
    "    \n",
    "r = RSA(small=False)\n",
    "assert r.decrypt(r.encrypt(b\"Vanilla Ice Baby\")) == b'Vanilla Ice Baby'"
   ]
  },
  {
   "cell_type": "markdown",
   "metadata": {},
   "source": [
    "# Cryptopals Notebook\n",
    "\n",
    "## Set 6\n",
    "\n",
    "### Exercice 41\n",
    "\n",
    "Implement unpadded message recovery oracle"
   ]
  },
  {
   "cell_type": "code",
   "execution_count": 4,
   "metadata": {
    "collapsed": false
   },
   "outputs": [],
   "source": [
    "# Setting up legitimate side of things\n",
    "class Server:\n",
    "    def __init__(self):\n",
    "        self.rsa = RSA(small=False)\n",
    "        self.memory = set()\n",
    "    \n",
    "    def encrypt(self, s):\n",
    "        return self.rsa.encrypt(s)\n",
    "    \n",
    "    def decrypt(self, s):\n",
    "        if b\"\".join(s) in self.memory:\n",
    "            raise Exception(\"Message already decrypted\") # Why bother with hashes\n",
    "        else:\n",
    "            self.memory.add(b\"\".join(s))\n",
    "            return self.rsa.decrypt(s)\n",
    "\n",
    "# Alice is the server\n",
    "alice = Server()\n",
    "\n",
    "# Bob is the JS client\n",
    "original_message = b'{ \"time\": 62365314455, \"social\": \"555-555-555\" }'\n",
    "bob = {'message': alice.encrypt(original_message) }\n",
    "\n",
    "# Bob asks for the decrypted message\n",
    "bob['clear'] = alice.decrypt(bob['message'])\n",
    "assert bob['clear'] == original_message"
   ]
  },
  {
   "cell_type": "code",
   "execution_count": 5,
   "metadata": {
    "collapsed": false
   },
   "outputs": [],
   "source": [
    "# Eve gets a hold of the ciphertext !\n",
    "eve = {'message': bob['message']}\n",
    "\n",
    "# Ensure that the server won't decrypt it again...\n",
    "try:\n",
    "    alice.decrypt(eve['message'])\n",
    "    assert False\n",
    "except:\n",
    "    assert True\n",
    "    \n",
    "# Now modify message so that is different but still the same.\n",
    "(e, n), s = alice.rsa.public, 4 # Totally random, I swear.\n",
    "c = [str_to_int(block) for block in eve['message']] # Go back to ints for math\n",
    "cp = [(pow(s, e, n) * block) % n for block in c]\n",
    "assert c != cp\n",
    "new_message = alice.decrypt([int_to_str(block) for block in cp])\n",
    "assert new_message != original_message # We got a jumbled mess here"
   ]
  },
  {
   "cell_type": "code",
   "execution_count": 6,
   "metadata": {
    "collapsed": false
   },
   "outputs": [],
   "source": [
    "# Now Eve will want to recover original_message from new_message :\n",
    "blocks = [str_to_int(new_message[i:i+12]) for i in range(0, len(new_message), 12)]\n",
    "new_blocks = [(block * invmod(s, n)) % n for block in blocks]\n",
    "decrypted_message = b\"\".join(int_to_str(block) for block in new_blocks)\n",
    "\n",
    "# This is due to the fact that we add 0's to ensure int_to_str. Not that important.\n",
    "# We could just make a smarter way to convert str to ints. Meh.\n",
    "decrypted_message = b\"\".join(bytes([b]) for b in decrypted_message if b != 0)\n",
    "assert decrypted_message == original_message"
   ]
  },
  {
   "cell_type": "markdown",
   "metadata": {},
   "source": [
    "### Exercice 42\n",
    "\n",
    "Bleichenbacher's e=3 RSA Attack."
   ]
  },
  {
   "cell_type": "code",
   "execution_count": 7,
   "metadata": {
    "collapsed": false
   },
   "outputs": [],
   "source": [
    "sender = RSA(small=False, big=True)"
   ]
  },
  {
   "cell_type": "code",
   "execution_count": 8,
   "metadata": {
    "collapsed": false
   },
   "outputs": [],
   "source": [
    "def sign(sender, text):\n",
    "    \"\"\"Simple implementation of RSA signing\"\"\"\n",
    "    d, n = sender.private\n",
    "    _hash = base64.b16decode(sha1(text).upper())\n",
    "    asn1 = b'\\x30\\x21\\x30\\x09\\x06\\x05\\x2b\\x0e\\x03\\x02\\x1a\\x05\\x00\\x04\\x14' # ASN.1 encoding for SHA1\n",
    "    block = b'\\x00\\x01' + b'\\xff' * (128 - len(_hash) - len(asn1) - 3) + b'\\x00' + asn1 + _hash # Pad out to 128 bytes\n",
    "    assert len(block) == 128 # 1024 bit blocks\n",
    "    return pow(bytes_to_int(block), d, n)\n",
    "\n",
    "def check_signature(sender, text, signature):\n",
    "    \"\"\"Flawed implementation of RSA signature verification\"\"\"\n",
    "    e, n = sender.public\n",
    "    _hash = base64.b16decode(sha1(text).upper())\n",
    "    asn1 = b'\\x30\\x21\\x30\\x09\\x06\\x05\\x2b\\x0e\\x03\\x02\\x1a\\x05\\x00\\x04\\x14' # ASN.1 encoding for SHA1\n",
    "    clearint = pow(signature, e, n)\n",
    "    clearblock = b'\\x00' + int_to_bytes(clearint) # Initial null byte is lost during integer conversion\n",
    "    if not (clearblock[0:3] == b'\\x00\\x01\\xff'):\n",
    "        print('Starting bytes not ok')\n",
    "        return False # Check only the \"important\" bytes\n",
    "    clearblock = clearblock[3:]\n",
    "    while clearblock[0] == 255:\n",
    "        clearblock = clearblock[1:] # Consume 0xFF bytes\n",
    "    return clearblock.startswith(b'\\x00' + asn1 + _hash) # Check important bytes\n",
    "    # So we did NOT check that the padding was the entire length\n",
    "    # and we did NOT check the remaining block was equal to the ans1 + hash part.\n",
    "    \n",
    "# Check base case\n",
    "assert check_signature(sender, \"Hello, world !\", sign(sender, \"Hello, world !\"))"
   ]
  },
  {
   "cell_type": "markdown",
   "metadata": {
    "collapsed": true
   },
   "source": [
    "This is all inspired from this submission : https://www.ietf.org/mail-archive/web/openpgp/current/msg00999.html\n",
    "\n",
    "Let's define D and N :\n",
    "$$\\begin{align*}\n",
    "D\n",
    "&= 0x00\\ ASN.1\\ HASH \\\\\n",
    "&= 2^{288} - N\n",
    "\\end{align*}$$\n",
    "\n",
    "And now build the signature, using the least amount of padding possible (to have the largest possible margin) :\n",
    "$$\\begin{align*}\n",
    "signature\n",
    "&= 0x00\\ 0x01\\ 0xFF\\ 0x00\\ ASN.1\\ HASH\\ GARBAGE\\ (1024\\ bit\\ key)\\\\\n",
    "&= 2^{1009} - 2^{1000} + D.2^{712} + garbage\\\\\n",
    "&= 2^{1009} - 2^{1000} + 2^{1000} - N.2^{712} + garbage\\\\\n",
    "&= 2^{1009} - N.2^{712} + garbage\\\\\n",
    "\\end{align*}$$\n",
    "\n",
    "Sadly, given that 2^1009 is not a perfect cube, we cannot make a nice formula like in the Hal Finney writeup. We still have a good base. Let's crunch some numbers to find a perfect cube that would fit our description. WolframAlpha reveals that the cube root of our baseline (2^1009 - N\\*2^712) is around 1.7\\*10^101. Let's use that as a starting value (note: we could have found this value by using the same binary search used to find the perfect root)."
   ]
  },
  {
   "cell_type": "code",
   "execution_count": 9,
   "metadata": {
    "collapsed": false
   },
   "outputs": [],
   "source": [
    "# Now, we want to forge a signature\n",
    "e, n = sender.public\n",
    "_hash = base64.b16decode(sha1('Hello, world !').upper())\n",
    "asn1 = b'\\x30\\x21\\x30\\x09\\x06\\x05\\x2b\\x0e\\x03\\x02\\x1a\\x05\\x00\\x04\\x14' # ASN.1 encoding for SHA1\n",
    "D = bytes_to_int(b'\\x00' + asn1 + _hash)\n",
    "N = 2**288 - D\n",
    "target = 2**1009 - N * (2**712)\n",
    "base = 176254032823638680266052181223788664320230109282117832543013801901130780612858290399771331518246797307"
   ]
  },
  {
   "cell_type": "code",
   "execution_count": 10,
   "metadata": {
    "collapsed": false
   },
   "outputs": [
    {
     "name": "stdout",
     "output_type": "stream",
     "text": [
      "Found a good root. (root^3 - target) is 16127599852352072733114186255968266580760613075092633068618640212423478497054982267802592076314564076913940744080994100546246971644854173908828995096951797527509070032754050928806580131027491716868344335397286586176 and (2^712 - (root^3 - target)) is 5417916800390065152544908304308740433333578757271087059886318366546048406945860779574986056278438219311781496353911879206280622851898686714542534203638306433907526124188058145386474621266694133074872823712473929920\n"
     ]
    }
   ],
   "source": [
    "# We need a perfect cube that is slightly larger than our target (less than 2^712 difference, should be doable)\n",
    "def is_good_root(n):\n",
    "    if (n**3 - target) < 0:\n",
    "        return -1 # Too small\n",
    "    if (n**3 - target) > 2**712:\n",
    "        return 1  # Too big\n",
    "    return 0 # Perfect.\n",
    "\n",
    "low = base\n",
    "high = base*2\n",
    "mid = (high - low) // 2 + low\n",
    "is_ok = is_good_root(mid)\n",
    "while is_ok != 0:\n",
    "    if is_ok < 0:\n",
    "        low = mid\n",
    "    elif is_ok > 0:\n",
    "        high = mid\n",
    "    mid = (high - low) // 2 + low\n",
    "    is_ok = is_good_root(mid)\n",
    "root = mid\n",
    "    \n",
    "print('Found a good root. (root^3 - target) is %s and (2^712 - (root^3 - target)) is %s' % (mid**3 - target, 2**712 - (mid**3 - target)))"
   ]
  },
  {
   "cell_type": "code",
   "execution_count": 11,
   "metadata": {
    "collapsed": false
   },
   "outputs": [],
   "source": [
    "# Now for the test !\n",
    "assert check_signature(sender, \"Hello, world !\", root)"
   ]
  },
  {
   "cell_type": "markdown",
   "metadata": {},
   "source": [
    "# Interlude : Cyclic Groups Math"
   ]
  },
  {
   "cell_type": "code",
   "execution_count": 12,
   "metadata": {
    "collapsed": false
   },
   "outputs": [],
   "source": [
    "class CyclicInteger:\n",
    "    def __init__(self, value, n):\n",
    "        self.value = int(value)\n",
    "        self.n = int(n)\n",
    "    def __int__(self):\n",
    "        return int(self.value) % int(self.n)\n",
    "    def __add__(self, i):\n",
    "        return CyclicInteger((int(self) + int(i)) % self.n, self.n)\n",
    "    def __sub__(self, i):\n",
    "        return CyclicInteger((int(self) - int(i)) % self.n, self.n)\n",
    "    def __eq__(self, i):\n",
    "        return int(self) == int(i) % self.n\n",
    "    def __lt__(self, i):\n",
    "        return int(self) < int(i) % self.n\n",
    "    def __gt__(self, i):\n",
    "        return int(self) > int(i) % self.n\n",
    "    def __mul__(self, i):\n",
    "        return CyclicInteger((int(self)*int(i)) % self.n, self.n)\n",
    "    def __truediv__(self, i):\n",
    "        return CyclicInteger((int(self) * invmod(int(i), self.n)) % self.n, self.n)\n",
    "    def __pow__(self, i, m=None):\n",
    "        if m is None:\n",
    "            return CyclicInteger(pow(int(self), int(i), self.n), self.n)\n",
    "        else:\n",
    "            return CyclicInteger(pow(int(self), int(i), self.n) % int(m), self.n)\n",
    "    def __mod__(self, i):\n",
    "        return CyclicInteger((int(self) % int(i)) % self.n, self.n)\n",
    "    @property\n",
    "    def inverse(self):\n",
    "        return CyclicInteger(invmod(int(self), self.n), self.n)\n",
    "    \n",
    "a, b, c = CyclicInteger(1, 13), CyclicInteger(10, 13), CyclicInteger(11, 13)\n",
    "assert int(a - b) == 4  \n",
    "assert int(b + c) == 8\n",
    "assert int(c + 5) == 3\n",
    "assert int(c * c.inverse) == a == 1\n",
    "assert c.inverse.inverse == c\n",
    "assert int(c / c.inverse.inverse) == a == 1\n",
    "assert int(b ** 2) == 9"
   ]
  },
  {
   "cell_type": "markdown",
   "metadata": {
    "collapsed": true
   },
   "source": [
    "### Exercice 43\n",
    "\n",
    "DSA key recovery from nonce"
   ]
  },
  {
   "cell_type": "code",
   "execution_count": 13,
   "metadata": {
    "collapsed": true
   },
   "outputs": [],
   "source": [
    "# Parameters\n",
    "p = 0x800000000000000089e1855218a0e7dac38136ffafa72eda7859f2171e25e65eac698c1702578b07dc2a1076da241c76c62d374d8389ea5aeffd3226a0530cc565f3bf6b50929139ebeac04f48c3c84afb796d61e5a4f9a8fda812ab59494232c7d2b4deb50aa18ee9e132bfa85ac4374d7f9091abc3d015efc871a584471bb1\n",
    "q = 0xf4f47f05794b256174bba6e9b396a7707e563c5b\n",
    "g = 0x5958c9d3898b224b12672c0b98e06c60df923cb8bc999d119458fef538b8fa4046c8db53039db620c094c9fa077ef389b5322a559946a71903f990f1f7e0e025e2d7f7cf494aff1a0470f5b64c36b625a097f1651fe775323556fe00b3608c887892878480e99041be601a62166ca6894bdd41a7054ec89f756ba9fc95302291"
   ]
  },
  {
   "cell_type": "code",
   "execution_count": 14,
   "metadata": {
    "collapsed": false
   },
   "outputs": [],
   "source": [
    "import random\n",
    "\n",
    "def dsa_sign(text, p, q, g, return_private_key=False, nonce=None, force_private_key=None,\n",
    "            check_r_non_zero=True):\n",
    "    \"\"\"Sign a given text using DSA\n",
    "    \n",
    "    Note : some arguments are useful for later exercices.\n",
    "    \"\"\"\n",
    "    # Generate public and private keys\n",
    "    if force_private_key:\n",
    "        x = CyclicInteger(force_private_key, q)\n",
    "    else:\n",
    "        x = CyclicInteger(random.randint(1, q-1), q)\n",
    "    y = CyclicInteger(pow(g, int(x), p), p)\n",
    "    \n",
    "    # Random per message key (with r != 0)\n",
    "    if nonce is None:\n",
    "        k = CyclicInteger(random.randint(1, q-1), q)\n",
    "    else:\n",
    "        k = CyclicInteger(nonce, q)\n",
    "    r = CyclicInteger(pow(g, int(k), p), q)\n",
    "    while r == 0 and check_r_non_zero:\n",
    "        k = CyclicInteger(random.randint(1, q-1), q)\n",
    "        r = CyclicInteger(pow(g, int(k), p), q)\n",
    "    \n",
    "    # Calculate signature\n",
    "    H = CyclicInteger(sha1i(text), q)\n",
    "    s = k.inverse * (H + x*r) # These are all CyclicIntegers\n",
    "    \n",
    "    if s == 0:\n",
    "        return dsa_sign(text, p, q, g) # Start again\n",
    "    if return_private_key:\n",
    "        return int(y), int(r), int(s), int(x), int(k)\n",
    "    else:\n",
    "        return int(y), int(r), int(s)\n",
    "\n",
    "def dsa_verify(text, r, s, y, p, q, g):\n",
    "    \"\"\"Verify the signature of a given text with DSA\n",
    "    \"\"\"\n",
    "    w = CyclicInteger(s, q).inverse\n",
    "    H = CyclicInteger(sha1i(text), q)\n",
    "    u1 = H * w\n",
    "    u2 = CyclicInteger(r, q) * w\n",
    "    v =((pow(g, int(u1), p) * pow(int(y), int(u2), p)) % p) % q\n",
    "    return int(v) == int(r)\n",
    "\n",
    "text = \"Hello, world !\"\n",
    "y, r, s = dsa_sign(text, p, q, g)\n",
    "assert dsa_verify(text, r, s, y, p, q, g)"
   ]
  },
  {
   "cell_type": "code",
   "execution_count": 15,
   "metadata": {
    "collapsed": false
   },
   "outputs": [],
   "source": [
    "# Let's first try to recover the private key from a test message\n",
    "text = \"What's wrong with the world mama ?\"\n",
    "\n",
    "def dsa_recover_private_key_from_nonce(text, r, s, y, p, q, g, k):\n",
    "    \"\"\"k is the nonce. The rest is simply a text with it's signature.\"\"\"\n",
    "    H = CyclicInteger(sha1i(text), q)\n",
    "    r, s, k = CyclicInteger(r, q), CyclicInteger(s, q), CyclicInteger(k, q)\n",
    "    return int(((s * k) - H) / r) # Cyclic Group Math ensured by the class\n",
    "\n",
    "def dsa_check_private_key(text, r, s, y, p, q, g, k, x):\n",
    "    \"\"\"Let's see if a given recovered private key matches with the\n",
    "    one that was actually used to generate a given signature.\n",
    "    \"\"\"\n",
    "    y_test, r_test, s_test = dsa_sign(text, p, q, g, force_private_key=x, nonce=k)\n",
    "    return y_test == y and r_test == r and s_test == s\n",
    "\n",
    "y, r, s, x, k = dsa_sign(text, p, q, g, return_private_key=True)\n",
    "x_recovered = dsa_recover_private_key_from_nonce(text, r, s, y, p, q, g, k)\n",
    "assert x == x_recovered # Yay \\o/\n",
    "assert dsa_check_private_key(text, r, s, y, p, q, g, k, x_recovered)\n",
    "assert not dsa_check_private_key(text, r, s, y, p, q, g, k, x_recovered + 1)"
   ]
  },
  {
   "cell_type": "markdown",
   "metadata": {},
   "source": [
    "How this works (this is really trivial) :\n",
    "\n",
    "$$\\begin{align*}\n",
    "((s.k) - H(msg)).r^{-1}\n",
    "&= ((k^{-1}.(H(msg)+r.x).k)-H(msg)).r^{-1}\\\\\n",
    "&= x\n",
    "\\end{align*}$$"
   ]
  },
  {
   "cell_type": "code",
   "execution_count": 16,
   "metadata": {
    "collapsed": false
   },
   "outputs": [
    {
     "name": "stderr",
     "output_type": "stream",
     "text": [
      " 25%|██▌       | 16539/65536 [00:17<00:52, 934.98it/s]"
     ]
    },
    {
     "name": "stdout",
     "output_type": "stream",
     "text": [
      "Found private key : 0x15fb2873d16b3e129ff76d0918fd7ada54659e49  (nonce : 16575)\n"
     ]
    }
   ],
   "source": [
    "# Now, the actual challenge.\n",
    "# The author has used a nonce <2**16. This is really low and can easily be bruteforced.\n",
    "y = 0x84ad4719d044495496a3201c8ff484feb45b962e7302e56a392aee4abab3e4bdebf2955b4736012f21a08084056b19bcd7fee56048e004e44984e2f411788efdc837a0d2e5abb7b555039fd243ac01f0fb2ed1dec568280ce678e931868d23eb095fde9d3779191b8c0299d6e07bbb283e6633451e535c45513b2d33c99ea17\n",
    "r = 548099063082341131477253921760299949438196259240\n",
    "s = 857042759984254168557880549501802188789837994940\n",
    "text = \"\"\"For those that envy a MC it can be hazardous to your health\n",
    "So be friendly, a matter of life and death, just like a etch-a-sketch\n",
    "\"\"\"\n",
    "assert sha1i(text) == 0xd2d0714f014a9784047eaeccf956520045c45265\n",
    "\n",
    "import tqdm\n",
    "for k in tqdm.tqdm(range(2**16)):\n",
    "    x_recovered = dsa_recover_private_key_from_nonce(text, r, s, y, p, q, g, k)\n",
    "    if dsa_check_private_key(text, r, s, y, p, q, g, k, x_recovered):\n",
    "        print('Found private key :', hex(x_recovered), ' (nonce : %s)' % k)\n",
    "        break\n",
    "\n",
    "assert sha1(hex(x_recovered)[2:]) == '0954edd5e0afe5542a4adf012611a91912a3ec16'"
   ]
  },
  {
   "cell_type": "markdown",
   "metadata": {},
   "source": [
    "### Exercice 44\n",
    "\n",
    "\n",
    "DSA nonce recovery from repeated nonce\n",
    "\n",
    "##### How it works\n",
    "\n",
    "If k stays constant for two messages m1 and m2, then r stays constant too. This gives us (everything is mod q) :\n",
    "$$\\begin{align*}\n",
    "\\dfrac{m2-m1}{s2-s1}\n",
    "&= (m2-m1).[k^{-1}.(m2+x.r)-k^{-1}.(m1+x.r)]^{-1}\\\\\n",
    "&= k\n",
    "\\end{align*}$$"
   ]
  },
  {
   "cell_type": "code",
   "execution_count": 17,
   "metadata": {
    "collapsed": true
   },
   "outputs": [],
   "source": [
    "y = 0x2d026f4bf30195ede3a088da85e398ef869611d0f68f0713d51c9c1a3a26c95105d915e2d8cdf26d056b86b8a7b85519b1c23cc3ecdc6062650462e3063bd179c2a6581519f674a61f1d89a1fff27171ebc1b93d4dc57bceb7ae2430f98a6a4d83d8279ee65d71c1203d2c96d65ebbf7cce9d32971c3de5084cce04a2e147821"
   ]
  },
  {
   "cell_type": "code",
   "execution_count": 18,
   "metadata": {
    "collapsed": false
   },
   "outputs": [],
   "source": [
    "# Load into an object\n",
    "messages = []\n",
    "with open('44.txt') as _in:\n",
    "    message = {}\n",
    "    for l in _in:\n",
    "        key = l.split(':')[0]\n",
    "        value = l.split(':')[1].strip()\n",
    "        if key == 'msg':\n",
    "            value += ' ' # Apparently each message has a trailing space\n",
    "        elif key == 'm':\n",
    "            value = CyclicInteger(int(value, 16), q)\n",
    "        else:\n",
    "            value = CyclicInteger(int(value), q)\n",
    "        message[key] = value\n",
    "        if 's' in message and 'r' in message and 'msg' in message and 'm' in message:\n",
    "            messages.append(message)\n",
    "            message = {}"
   ]
  },
  {
   "cell_type": "code",
   "execution_count": 19,
   "metadata": {
    "collapsed": false
   },
   "outputs": [
    {
     "name": "stdout",
     "output_type": "stream",
     "text": [
      "Found the two messages : Listen for me, you better listen for me now.  and Pure black people mon is all I mon know. \n"
     ]
    }
   ],
   "source": [
    "# Try to find messages with the same k.\n",
    "# There is a neat trick here : if k is constant...\n",
    "# ... r is constant too. Soooooo.... easy enough to\n",
    "# identify the messages.\n",
    "from itertools import combinations\n",
    "\n",
    "m0, m1 = None, None\n",
    "for m0, m1 in combinations(messages, 2):\n",
    "    if m0['r'] == m1['r']:\n",
    "        print('Found the two messages : {} and {}'.format(m0['msg'], m1['msg']))\n",
    "        break\n",
    "\n",
    "realfingerprint = 'ca8f6f7c66fa362d40760d135b763eb8527d3d52'\n",
    "k = (m1['m'] - m0['m']) / (m1['s'] - m0['s'])\n",
    "x_recovered = dsa_recover_private_key_from_nonce(m0['msg'], m0['r'], m0['s'], y, p, q, g, k)\n",
    "x_recovered_2 = dsa_recover_private_key_from_nonce(m1['msg'], m1['r'], m1['s'], y, p, q, g, k)\n",
    "\n",
    "assert dsa_check_private_key(m0['msg'], m0['r'], m0['s'], y, p, q, g, k, x_recovered)\n",
    "assert dsa_check_private_key(m1['msg'], m1['r'], m1['s'], y, p, q, g, k, x_recovered)\n",
    "assert sha1(hex(x_recovered)[2:]) == realfingerprint\n",
    "assert sha1(hex(x_recovered_2)[2:]) == realfingerprint"
   ]
  },
  {
   "cell_type": "markdown",
   "metadata": {
    "collapsed": false
   },
   "source": [
    "### Exercice 45\n",
    "\n",
    "DSA parameter tampering\n",
    "\n",
    "If we can force g = 0:\n",
    "$$\\begin{align*}\n",
    "g=0\n",
    "&=> r = 0\\\\\n",
    "&=> s = k^{-1}.H(msg)\\\\\n",
    "&=> y = 0\n",
    "\\end{align*}$$\n",
    "\n",
    "This means the signature does no longer depend on the private key... Also, the nonce can be trivially extracted which is bad as we already know. Also the signature can be trivially forged (take the hash). In a word : completely broken."
   ]
  },
  {
   "cell_type": "code",
   "execution_count": 20,
   "metadata": {
    "collapsed": false
   },
   "outputs": [],
   "source": [
    "text1, text2 = \"Hello, world !\", \"How are you today ?\"\n",
    "y1, r1, s1 = dsa_sign(text1, p, q, g=0, check_r_non_zero=False)\n",
    "assert y1 == r1 == 0\n",
    "y2, r2, s2 = dsa_sign(text2, p, q, g=0, check_r_non_zero=False)\n",
    "assert y2 == r2 == 0\n",
    "h1 = sha1i(text1)\n",
    "assert dsa_verify(text1, 0, h1, 0, p, q, g=0)"
   ]
  },
  {
   "cell_type": "markdown",
   "metadata": {},
   "source": [
    "If we can force g = (p+1):\n",
    "$$\\begin{align*}\n",
    "g=p+1\n",
    "&=> r = g^{k}\\ mod\\ p\\ =\\ 1^{k}\\ mod\\ p\\ =\\ 1\\\\\n",
    "&=> s = k^{-1}.(H(msg)+x)\\\\\n",
    "&=> y = g^{x}\\ mod\\ p\\ =\\ 1^{k}\\ mod\\ p\\ =\\ 1\\\\\n",
    "\\end{align*}$$\n"
   ]
  },
  {
   "cell_type": "code",
   "execution_count": 21,
   "metadata": {
    "collapsed": false
   },
   "outputs": [
    {
     "name": "stdout",
     "output_type": "stream",
     "text": [
      "1 1 1370135020043054056608256218180985449163756199804\n"
     ]
    },
    {
     "data": {
      "text/plain": [
       "True"
      ]
     },
     "execution_count": 21,
     "metadata": {},
     "output_type": "execute_result"
    }
   ],
   "source": [
    "text1 = \"Hello, world !\"\n",
    "y1, r1, s1 = dsa_sign(text1, p, q, g=p+1)\n",
    "print(y1, r1, s1)\n",
    "\n",
    "z = sha1i(\"Goodbye\")\n",
    "r = ((y1 * z) % p) % q\n",
    "s = (r * invmod(z, q)) % q\n",
    "dsa_verify(\"text1\", 1, 1, 1, p, q, g=p+1)"
   ]
  },
  {
   "cell_type": "markdown",
   "metadata": {},
   "source": [
    "So, apparently, this is actually slightly more complicated and allows to generate a magic signature. However, I don't quite see where my math is wrong... So this is most definitely not as easy as that, but I can't seem to find the mistake."
   ]
  },
  {
   "cell_type": "markdown",
   "metadata": {
    "collapsed": true
   },
   "source": [
    "### Exercice 46\n",
    "\n",
    "RSA parity Oracle"
   ]
  },
  {
   "cell_type": "code",
   "execution_count": 22,
   "metadata": {
    "collapsed": false
   },
   "outputs": [],
   "source": [
    "# Use small primes for simplicity\n",
    "p = 0xC2B0C8D9BFE064019955C4A3819E31BFA6679B32BC5A2021D1EDC5EA83BCCFD79946200A6D5C7D349B69B1BE3EE01AF3C48811D9B95BD8740BB5EA5B3BD1CAB5\n",
    "q = 0xFC932034EA8B970B000C6C1CBBB7ACAB0ECC6D7C86840B75C9A2EAFC84536D04DF4F63B49B7852D65CC9FA313EB2E095C5A1B3E47BF9550447E65907741A43F9\n",
    "r = RSA(p=p, q=q)"
   ]
  },
  {
   "cell_type": "code",
   "execution_count": 24,
   "metadata": {
    "collapsed": false
   },
   "outputs": [
    {
     "name": "stderr",
     "output_type": "stream",
     "text": [
      "\r",
      " 25%|██▌       | 16539/65536 [00:30<01:28, 550.80it/s]"
     ]
    }
   ],
   "source": [
    "import base64\n",
    "def oracle(encrypter, cypher):\n",
    "    \"\"\"Returns True if the plaintext is odd and False if it is even\"\"\"\n",
    "    return bool(encrypter.decrypt_block(cypher, i2s=False) % 2)\n",
    "\n",
    "message = \"VGhhdCdzIHdoeSBJIGZvdW5kIHlvdSBkb24ndCBwbGF5IGFyb3VuZCB3aXRoIHRoZSBGdW5reSBDb2xkIE1lZGluYQ==\"\n",
    "message = base64.b64decode(message)\n",
    "cypher = r.encrypt_block(message, i2s=False)"
   ]
  },
  {
   "cell_type": "code",
   "execution_count": null,
   "metadata": {
    "collapsed": true
   },
   "outputs": [],
   "source": [
    "import tqdm, math\n",
    "lo, hi, c = 0, r.n, cypher\n",
    "cypher_2 = r.encrypt(2, i2s=False)\n",
    "pbar = tqdm.tqdm(range(int(math.log(r.n, 2))+20))\n",
    "for i in pbar:\n",
    "    pbar.set_description(str(int_to_str(hi)))\n",
    "    if oracle(r, c*cypher_2):\n",
    "        lo, hi, c = (hi+lo)//2, hi, c*cypher_2 - r.n\n",
    "    else:\n",
    "        lo, hi, c = lo, (hi+lo)//2, c*cypher_2"
   ]
  },
  {
   "cell_type": "markdown",
   "metadata": {},
   "source": [
    "### Exercice 47\n",
    "\n",
    "Bleichenbacher's PKCS 1.5 padding Oracle (Simple Case)\n",
    "\n",
    "(moving directly to complete case)"
   ]
  },
  {
   "cell_type": "markdown",
   "metadata": {},
   "source": [
    "### Exercice 48\n",
    "\n",
    "Bleichenbacher's PKCS 1.5 padding Oracle (Complete Case)\n",
    "\n",
    "(see PDF for explanation)"
   ]
  },
  {
   "cell_type": "code",
   "execution_count": null,
   "metadata": {
    "collapsed": true
   },
   "outputs": [],
   "source": []
  }
 ],
 "metadata": {
  "kernelspec": {
   "display_name": "Python 3",
   "language": "python",
   "name": "python3"
  },
  "language_info": {
   "codemirror_mode": {
    "name": "ipython",
    "version": 3
   },
   "file_extension": ".py",
   "mimetype": "text/x-python",
   "name": "python",
   "nbconvert_exporter": "python",
   "pygments_lexer": "ipython3",
   "version": "3.6.3"
  }
 },
 "nbformat": 4,
 "nbformat_minor": 2
}
